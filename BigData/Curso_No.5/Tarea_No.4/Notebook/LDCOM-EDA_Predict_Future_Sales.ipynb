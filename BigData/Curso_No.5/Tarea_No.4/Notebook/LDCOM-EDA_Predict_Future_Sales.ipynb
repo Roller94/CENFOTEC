{
 "cells": [
  {
   "cell_type": "markdown",
   "metadata": {
    "_uuid": "0563e5e513745ab126d543854f1871b58efc4eb6"
   },
   "source": [
    "<H1><center>LDCOM - Predecir Ventas Futuras</center></H1>"
   ]
  },
  {
   "cell_type": "markdown",
   "metadata": {
    "_uuid": "74e4a7fea8e6b478f09cc8fb90e1ef1bb508140f"
   },
   "source": [
    "\n",
    "### Descripción de los datos:\n",
    "* ID - Representa una tupla (Tienda, Artículo) dentro del conjunto de prueba\n",
    "* shop_id - Identificador único de cada Tienda\n",
    "* item_id - Identificador único de cada Producto\n",
    "* item_category_id - Identificador único de cada Categoría de Productos\n",
    "* date_block_num - Consucutivo numérico por mes, usado a conveniencia. Enero 2013 es 0, Febrero 2013 es 1,..., Octubre 2015 es 33\n",
    "* date - Fecha en formato dd/mm/yyyy\n",
    "* item_cnt_day - Cantidad de productos vendidos. Está pronosticando una cantidad mensual de esta medida\n",
    "* item_price - Precio del artículo\n",
    "* item_name - Nombre del Artículo\n",
    "* shop_name - Nombre de la Tienda\n",
    "* item_category_name - Nombre de la Categoría\n",
    "\n",
    "\n",
    "### Dependencias"
   ]
  },
  {
   "cell_type": "code",
   "execution_count": 1,
   "metadata": {
    "_kg_hide-input": false,
    "_kg_hide-output": true,
    "_uuid": "60785124984e36422c50287be4d6b1d7944af345"
   },
   "outputs": [],
   "source": [
    "import datetime\n",
    "import warnings\n",
    "import numpy as np\n",
    "import pandas as pd\n",
    "import seaborn as sns\n",
    "import matplotlib.pyplot as plt\n",
    "from sklearn.metrics import mean_squared_error\n",
    "from sklearn.linear_model import LinearRegression\n",
    "from sklearn.neighbors import KNeighborsRegressor\n",
    "from sklearn.ensemble import RandomForestRegressor\n",
    "from sklearn.preprocessing import StandardScaler, MinMaxScaler\n",
    "\n",
    "%matplotlib inline\n",
    "sns.set(style=\"darkgrid\")\n",
    "pd.set_option('display.float_format', lambda x: '%.2f' % x)\n",
    "warnings.filterwarnings(\"ignore\")"
   ]
  },
  {
   "cell_type": "markdown",
   "metadata": {
    "_uuid": "0dc8d7422c27df8c88b6b8493c2967da432300a8"
   },
   "source": [
    "### Carga de la Información"
   ]
  },
  {
   "cell_type": "code",
   "execution_count": 2,
   "metadata": {
    "_uuid": "1902600704b6188ec08cd65ae0df9b6541b02a6c"
   },
   "outputs": [],
   "source": [
    "test = pd.read_csv('input_ldcom/test.csv', dtype={'ID': 'int32', 'shop_id': 'int32', 'item_id': 'int32'}, encoding='latin-1')\n",
    "item_categories = pd.read_csv('input_ldcom/item_categories.csv',  dtype={'item_category_name': 'str', 'item_category_id': 'int32'}, encoding='latin-1')\n",
    "items = pd.read_csv('input_ldcom/items.csv', dtype={'item_name': 'str', 'item_id': 'int32', 'item_category_id': 'int32'}, encoding='latin-1')\n",
    "shops = pd.read_csv('input_ldcom/shops.csv', dtype={'shop_name': 'str', 'shop_id': 'int32'}, encoding='latin-1')\n",
    "sales = pd.read_csv('input_ldcom/sales_train.csv', parse_dates=['date'], dtype={'date': 'str', 'date_block_num': 'int32', 'shop_id': 'int32', 'item_id': 'int32', 'item_price': 'float32', 'item_cnt_day': 'int32'}, encoding='latin-1')"
   ]
  },
  {
   "cell_type": "markdown",
   "metadata": {
    "_uuid": "da903a7d023c46a81b2e9297073cf6b1941febfc"
   },
   "source": [
    "### Fusión de Datasets"
   ]
  },
  {
   "cell_type": "code",
   "execution_count": 3,
   "metadata": {
    "_uuid": "203e9c8159e3f7b9369624eb070b15b255b64003"
   },
   "outputs": [],
   "source": [
    "train = sales.join(items, on='item_id', rsuffix='_').join(shops, on='shop_id', rsuffix='_').join(item_categories, on='item_category_id', rsuffix='_').drop(['item_id_', 'shop_id_', 'item_category_id_'], axis=1)"
   ]
  },
  {
   "cell_type": "markdown",
   "metadata": {
    "_uuid": "15abfe223ffc7b1f70a373faaf49bccc6fdefc2d"
   },
   "source": [
    "### Visualización de Datos sin procesar"
   ]
  },
  {
   "cell_type": "code",
   "execution_count": 4,
   "metadata": {
    "_kg_hide-input": true,
    "_uuid": "88cdd03ee5d313904780fa4797b9eff9ae88bfcb"
   },
   "outputs": [
    {
     "name": "stdout",
     "output_type": "stream",
     "text": [
      "Train rows:  2935849\n",
      "Train columns:  10\n"
     ]
    }
   ],
   "source": [
    "print('Train rows: ', train.shape[0])\n",
    "print('Train columns: ', train.shape[1])"
   ]
  },
  {
   "cell_type": "code",
   "execution_count": 5,
   "metadata": {
    "_kg_hide-input": true,
    "_uuid": "46a43d3fe0fffcc8b8d36ffd3df9d3c291bcb098"
   },
   "outputs": [
    {
     "data": {
      "text/html": [
       "<div>\n",
       "<style scoped>\n",
       "    .dataframe tbody tr th:only-of-type {\n",
       "        vertical-align: middle;\n",
       "    }\n",
       "\n",
       "    .dataframe tbody tr th {\n",
       "        vertical-align: top;\n",
       "    }\n",
       "\n",
       "    .dataframe thead th {\n",
       "        text-align: right;\n",
       "    }\n",
       "</style>\n",
       "<table border=\"1\" class=\"dataframe\">\n",
       "  <thead>\n",
       "    <tr style=\"text-align: right;\">\n",
       "      <th></th>\n",
       "      <th>0</th>\n",
       "      <th>1</th>\n",
       "      <th>2</th>\n",
       "      <th>3</th>\n",
       "      <th>4</th>\n",
       "    </tr>\n",
       "  </thead>\n",
       "  <tbody>\n",
       "    <tr>\n",
       "      <td>date</td>\n",
       "      <td>2013-02-01 00:00:00</td>\n",
       "      <td>2013-03-01 00:00:00</td>\n",
       "      <td>2013-05-01 00:00:00</td>\n",
       "      <td>2013-06-01 00:00:00</td>\n",
       "      <td>2013-01-15 00:00:00</td>\n",
       "    </tr>\n",
       "    <tr>\n",
       "      <td>date_block_num</td>\n",
       "      <td>0</td>\n",
       "      <td>0</td>\n",
       "      <td>0</td>\n",
       "      <td>0</td>\n",
       "      <td>0</td>\n",
       "    </tr>\n",
       "    <tr>\n",
       "      <td>shop_id</td>\n",
       "      <td>59</td>\n",
       "      <td>25</td>\n",
       "      <td>25</td>\n",
       "      <td>25</td>\n",
       "      <td>25</td>\n",
       "    </tr>\n",
       "    <tr>\n",
       "      <td>item_id</td>\n",
       "      <td>22154</td>\n",
       "      <td>2552</td>\n",
       "      <td>2552</td>\n",
       "      <td>2554</td>\n",
       "      <td>2555</td>\n",
       "    </tr>\n",
       "    <tr>\n",
       "      <td>item_price</td>\n",
       "      <td>999.00</td>\n",
       "      <td>899.00</td>\n",
       "      <td>899.00</td>\n",
       "      <td>1709.05</td>\n",
       "      <td>1099.00</td>\n",
       "    </tr>\n",
       "    <tr>\n",
       "      <td>item_cnt_day</td>\n",
       "      <td>1</td>\n",
       "      <td>1</td>\n",
       "      <td>-1</td>\n",
       "      <td>1</td>\n",
       "      <td>1</td>\n",
       "    </tr>\n",
       "    <tr>\n",
       "      <td>item_name</td>\n",
       "      <td>Comic Book Ex librium Volume 1 And the door wi...</td>\n",
       "      <td>Software Workshop of ideas. Postcards -CD- (DV...</td>\n",
       "      <td>Software Workshop of ideas. Postcards -CD- (DV...</td>\n",
       "      <td>Practical annual report for 2012 (+ DVD). Unde...</td>\n",
       "      <td>Workshop on the program 1C: Simplified 8 (rev....</td>\n",
       "    </tr>\n",
       "    <tr>\n",
       "      <td>item_category_id</td>\n",
       "      <td>82</td>\n",
       "      <td>30</td>\n",
       "      <td>30</td>\n",
       "      <td>30</td>\n",
       "      <td>30</td>\n",
       "    </tr>\n",
       "    <tr>\n",
       "      <td>shop_name</td>\n",
       "      <td>Sucursal_no60</td>\n",
       "      <td>Sucursal_no26</td>\n",
       "      <td>Sucursal_no26</td>\n",
       "      <td>Sucursal_no26</td>\n",
       "      <td>Sucursal_no26</td>\n",
       "    </tr>\n",
       "    <tr>\n",
       "      <td>item_category_name</td>\n",
       "      <td>Accessories - PS2</td>\n",
       "      <td>Books - Fiction</td>\n",
       "      <td>Books - Fiction</td>\n",
       "      <td>Books - Fiction</td>\n",
       "      <td>Books - Fiction</td>\n",
       "    </tr>\n",
       "  </tbody>\n",
       "</table>\n",
       "</div>"
      ],
      "text/plain": [
       "                                                                    0  \\\n",
       "date                                              2013-02-01 00:00:00   \n",
       "date_block_num                                                      0   \n",
       "shop_id                                                            59   \n",
       "item_id                                                         22154   \n",
       "item_price                                                     999.00   \n",
       "item_cnt_day                                                        1   \n",
       "item_name           Comic Book Ex librium Volume 1 And the door wi...   \n",
       "item_category_id                                                   82   \n",
       "shop_name                                               Sucursal_no60   \n",
       "item_category_name                                  Accessories - PS2   \n",
       "\n",
       "                                                                    1  \\\n",
       "date                                              2013-03-01 00:00:00   \n",
       "date_block_num                                                      0   \n",
       "shop_id                                                            25   \n",
       "item_id                                                          2552   \n",
       "item_price                                                     899.00   \n",
       "item_cnt_day                                                        1   \n",
       "item_name           Software Workshop of ideas. Postcards -CD- (DV...   \n",
       "item_category_id                                                   30   \n",
       "shop_name                                               Sucursal_no26   \n",
       "item_category_name                                    Books - Fiction   \n",
       "\n",
       "                                                                    2  \\\n",
       "date                                              2013-05-01 00:00:00   \n",
       "date_block_num                                                      0   \n",
       "shop_id                                                            25   \n",
       "item_id                                                          2552   \n",
       "item_price                                                     899.00   \n",
       "item_cnt_day                                                       -1   \n",
       "item_name           Software Workshop of ideas. Postcards -CD- (DV...   \n",
       "item_category_id                                                   30   \n",
       "shop_name                                               Sucursal_no26   \n",
       "item_category_name                                    Books - Fiction   \n",
       "\n",
       "                                                                    3  \\\n",
       "date                                              2013-06-01 00:00:00   \n",
       "date_block_num                                                      0   \n",
       "shop_id                                                            25   \n",
       "item_id                                                          2554   \n",
       "item_price                                                    1709.05   \n",
       "item_cnt_day                                                        1   \n",
       "item_name           Practical annual report for 2012 (+ DVD). Unde...   \n",
       "item_category_id                                                   30   \n",
       "shop_name                                               Sucursal_no26   \n",
       "item_category_name                                    Books - Fiction   \n",
       "\n",
       "                                                                    4  \n",
       "date                                              2013-01-15 00:00:00  \n",
       "date_block_num                                                      0  \n",
       "shop_id                                                            25  \n",
       "item_id                                                          2555  \n",
       "item_price                                                    1099.00  \n",
       "item_cnt_day                                                        1  \n",
       "item_name           Workshop on the program 1C: Simplified 8 (rev....  \n",
       "item_category_id                                                   30  \n",
       "shop_name                                               Sucursal_no26  \n",
       "item_category_name                                    Books - Fiction  "
      ]
     },
     "execution_count": 5,
     "metadata": {},
     "output_type": "execute_result"
    }
   ],
   "source": [
    "train.head().T"
   ]
  },
  {
   "cell_type": "code",
   "execution_count": 6,
   "metadata": {
    "_kg_hide-input": true,
    "_uuid": "ae26b7e92a34b929d8054ae3e4a6908c50ced7fb"
   },
   "outputs": [
    {
     "data": {
      "text/html": [
       "<div>\n",
       "<style scoped>\n",
       "    .dataframe tbody tr th:only-of-type {\n",
       "        vertical-align: middle;\n",
       "    }\n",
       "\n",
       "    .dataframe tbody tr th {\n",
       "        vertical-align: top;\n",
       "    }\n",
       "\n",
       "    .dataframe thead th {\n",
       "        text-align: right;\n",
       "    }\n",
       "</style>\n",
       "<table border=\"1\" class=\"dataframe\">\n",
       "  <thead>\n",
       "    <tr style=\"text-align: right;\">\n",
       "      <th></th>\n",
       "      <th>date_block_num</th>\n",
       "      <th>shop_id</th>\n",
       "      <th>item_id</th>\n",
       "      <th>item_price</th>\n",
       "      <th>item_cnt_day</th>\n",
       "      <th>item_category_id</th>\n",
       "    </tr>\n",
       "  </thead>\n",
       "  <tbody>\n",
       "    <tr>\n",
       "      <td>count</td>\n",
       "      <td>2935849.00</td>\n",
       "      <td>2935849.00</td>\n",
       "      <td>2935849.00</td>\n",
       "      <td>2935849.00</td>\n",
       "      <td>2935849.00</td>\n",
       "      <td>2935849.00</td>\n",
       "    </tr>\n",
       "    <tr>\n",
       "      <td>mean</td>\n",
       "      <td>14.57</td>\n",
       "      <td>33.00</td>\n",
       "      <td>10197.23</td>\n",
       "      <td>890.62</td>\n",
       "      <td>1.24</td>\n",
       "      <td>44.78</td>\n",
       "    </tr>\n",
       "    <tr>\n",
       "      <td>std</td>\n",
       "      <td>9.42</td>\n",
       "      <td>16.23</td>\n",
       "      <td>6324.30</td>\n",
       "      <td>1726.44</td>\n",
       "      <td>2.62</td>\n",
       "      <td>15.07</td>\n",
       "    </tr>\n",
       "    <tr>\n",
       "      <td>min</td>\n",
       "      <td>0.00</td>\n",
       "      <td>0.00</td>\n",
       "      <td>0.00</td>\n",
       "      <td>-1.00</td>\n",
       "      <td>-22.00</td>\n",
       "      <td>0.00</td>\n",
       "    </tr>\n",
       "    <tr>\n",
       "      <td>25%</td>\n",
       "      <td>7.00</td>\n",
       "      <td>22.00</td>\n",
       "      <td>4476.00</td>\n",
       "      <td>249.00</td>\n",
       "      <td>1.00</td>\n",
       "      <td>37.00</td>\n",
       "    </tr>\n",
       "    <tr>\n",
       "      <td>50%</td>\n",
       "      <td>14.00</td>\n",
       "      <td>31.00</td>\n",
       "      <td>9343.00</td>\n",
       "      <td>399.00</td>\n",
       "      <td>1.00</td>\n",
       "      <td>40.00</td>\n",
       "    </tr>\n",
       "    <tr>\n",
       "      <td>75%</td>\n",
       "      <td>23.00</td>\n",
       "      <td>47.00</td>\n",
       "      <td>15684.00</td>\n",
       "      <td>999.00</td>\n",
       "      <td>1.00</td>\n",
       "      <td>56.00</td>\n",
       "    </tr>\n",
       "    <tr>\n",
       "      <td>max</td>\n",
       "      <td>33.00</td>\n",
       "      <td>59.00</td>\n",
       "      <td>22169.00</td>\n",
       "      <td>307980.00</td>\n",
       "      <td>2169.00</td>\n",
       "      <td>83.00</td>\n",
       "    </tr>\n",
       "  </tbody>\n",
       "</table>\n",
       "</div>"
      ],
      "text/plain": [
       "       date_block_num    shop_id    item_id  item_price  item_cnt_day  \\\n",
       "count      2935849.00 2935849.00 2935849.00  2935849.00    2935849.00   \n",
       "mean            14.57      33.00   10197.23      890.62          1.24   \n",
       "std              9.42      16.23    6324.30     1726.44          2.62   \n",
       "min              0.00       0.00       0.00       -1.00        -22.00   \n",
       "25%              7.00      22.00    4476.00      249.00          1.00   \n",
       "50%             14.00      31.00    9343.00      399.00          1.00   \n",
       "75%             23.00      47.00   15684.00      999.00          1.00   \n",
       "max             33.00      59.00   22169.00   307980.00       2169.00   \n",
       "\n",
       "       item_category_id  \n",
       "count        2935849.00  \n",
       "mean              44.78  \n",
       "std               15.07  \n",
       "min                0.00  \n",
       "25%               37.00  \n",
       "50%               40.00  \n",
       "75%               56.00  \n",
       "max               83.00  "
      ]
     },
     "execution_count": 6,
     "metadata": {},
     "output_type": "execute_result"
    }
   ],
   "source": [
    "train.describe()"
   ]
  },
  {
   "cell_type": "markdown",
   "metadata": {
    "_uuid": "038c612e2f3177010080cbc2d0bd07d2e6d81af0"
   },
   "source": [
    "### Período de Tiempo del Dataset"
   ]
  },
  {
   "cell_type": "code",
   "execution_count": 7,
   "metadata": {
    "_uuid": "4943dc5bd0e533852c35a27fae90f7563c7b1b6c"
   },
   "outputs": [
    {
     "name": "stdout",
     "output_type": "stream",
     "text": [
      "Min date from train set: 2013-01-01\n",
      "Max date from train set: 2015-12-10\n"
     ]
    }
   ],
   "source": [
    "print('Min date from train set: %s' % train['date'].min().date())\n",
    "print('Max date from train set: %s' % train['date'].max().date())"
   ]
  },
  {
   "cell_type": "markdown",
   "metadata": {
    "_uuid": "10ae6e2516acc7cf9d1fba866af8608af5f37c1d"
   },
   "source": [
    "### Filtración de Datos\n",
    "\n",
    "Acerca de las filtraciones de datos, solo se usará \"shop_id\" e \"item_id\" que aparecen en el conjunto de prueba."
   ]
  },
  {
   "cell_type": "code",
   "execution_count": 8,
   "metadata": {
    "_uuid": "54c95a8b06b213d92cff944e6364168f8a891682"
   },
   "outputs": [],
   "source": [
    "test_shop_ids = test['shop_id'].unique()\n",
    "test_item_ids = test['item_id'].unique()\n",
    "\n",
    "# Únicamente las tiendas que aparecen en set de pruebas\n",
    "lk_train = train[train['shop_id'].isin(test_shop_ids)]\n",
    "\n",
    "# Únicamente los artículos que aparecen en set de pruebas\n",
    "lk_train = lk_train[lk_train['item_id'].isin(test_item_ids)]"
   ]
  },
  {
   "cell_type": "code",
   "execution_count": 9,
   "metadata": {
    "_uuid": "d3fafd1a419a27ac623be0d5dcb6a3109176472a"
   },
   "outputs": [
    {
     "name": "stdout",
     "output_type": "stream",
     "text": [
      "Tamaño del dataset antes de las filtraciones: 2935849\n",
      "Tamaño del dataset después de las filtraciones: 1224439\n"
     ]
    }
   ],
   "source": [
    "print('Tamaño del dataset antes de las filtraciones:', train.shape[0])\n",
    "print('Tamaño del dataset después de las filtraciones:', lk_train.shape[0])"
   ]
  },
  {
   "cell_type": "markdown",
   "metadata": {
    "_uuid": "9e293477b6db49ceec812a68536b282948f1463a"
   },
   "source": [
    "### Limpueza de Datos\n",
    "\n",
    "Únicamente registros donde el valor \"item_price\" > 0."
   ]
  },
  {
   "cell_type": "code",
   "execution_count": 10,
   "metadata": {
    "_uuid": "cefc1f8d4328fb583941704a9423eb0aaf051936"
   },
   "outputs": [],
   "source": [
    "train = train.query('item_price > 0')"
   ]
  },
  {
   "cell_type": "markdown",
   "metadata": {
    "_uuid": "fc7d2781916d506fafc6dedda43c981d05a4c48d"
   },
   "source": [
    "### Proceso de Datos\n",
    "* Se descartan las funciones de texto ya que no se hará nada con ellas.\n",
    "* Se solicita pronosticar las ventas totales de cada producto y tienda en el próximo mes, los datos se dan por día, así que se eliminarán las columnas no deseadas y se agregarán los datos por mes."
   ]
  },
  {
   "cell_type": "code",
   "execution_count": 11,
   "metadata": {
    "_uuid": "de93738c724479d8234e30180ebcd8bf6becaf43"
   },
   "outputs": [],
   "source": [
    "# Seleccionar únicamente las características últiles\n",
    "train_monthly = lk_train[['date', 'date_block_num', 'shop_id', 'item_category_id', 'item_id', 'item_price', 'item_cnt_day']]"
   ]
  },
  {
   "cell_type": "code",
   "execution_count": 12,
   "metadata": {
    "_uuid": "0cfa016f89affd460f056a8107cfc8f345773907"
   },
   "outputs": [],
   "source": [
    "# Agrupar por mes \"date_block_num\" y agregar las características.\n",
    "train_monthly = train_monthly.sort_values('date').groupby(['date_block_num', 'shop_id', 'item_category_id', 'item_id'], as_index=False)\n",
    "train_monthly = train_monthly.agg({'item_price':['sum', 'mean'], 'item_cnt_day':['sum', 'mean','count']})\n",
    "\n",
    "# Renombrar las características\n",
    "train_monthly.columns = ['date_block_num', 'shop_id', 'item_category_id', 'item_id', 'item_price', 'mean_item_price', 'item_cnt', 'mean_item_cnt', 'transactions']"
   ]
  },
  {
   "cell_type": "markdown",
   "metadata": {
    "_uuid": "6790d154fe62a879dd23ed5c7f36704eeb4fe600"
   },
   "source": [
    "#### Para imitar el comportamiento real de los datos, es requerido que crear los registros faltantes del conjunto de datos cargado, por lo que para cada mes es necesario crear los registros faltantes para cada tienda y artículo, ya que no se tiene datos para ellos, se reemplazará con 0."
   ]
  },
  {
   "cell_type": "code",
   "execution_count": 13,
   "metadata": {
    "_uuid": "0491342541802ddef275456aeba8a25a152bd1be"
   },
   "outputs": [],
   "source": [
    "# Se crea un conjunto de datos con todas las combinaciones posibles de ['date_block_num', 'shop_id', 'item_id'] para que no falten registros.\n",
    "shop_ids = train_monthly['shop_id'].unique()\n",
    "item_ids = train_monthly['item_id'].unique()\n",
    "empty_df = []\n",
    "for i in range(34):\n",
    "    for shop in shop_ids:\n",
    "        for item in item_ids:\n",
    "            empty_df.append([i, shop, item])\n",
    "    \n",
    "empty_df = pd.DataFrame(empty_df, columns=['date_block_num','shop_id','item_id'])"
   ]
  },
  {
   "cell_type": "code",
   "execution_count": 14,
   "metadata": {
    "_uuid": "2fbb090d2d8642622f01c6c52e362f74fa0574ce"
   },
   "outputs": [],
   "source": [
    "# Combinar el conjunto de train con el conjunto complete (los registros faltantes se completarán con 0).\n",
    "train_monthly = pd.merge(empty_df, train_monthly, on=['date_block_num','shop_id','item_id'], how='left')\n",
    "train_monthly.fillna(0, inplace=True)"
   ]
  },
  {
   "cell_type": "markdown",
   "metadata": {
    "_uuid": "5c59d6b48a35e04a80c13ff298e704a47c62fab2"
   },
   "source": [
    "### Nuevo Dataset"
   ]
  },
  {
   "cell_type": "code",
   "execution_count": 15,
   "metadata": {
    "_kg_hide-input": true,
    "_uuid": "53c97644dde67fc5284c7fd658752f54e55b3adb"
   },
   "outputs": [
    {
     "data": {
      "text/html": [
       "<div>\n",
       "<style scoped>\n",
       "    .dataframe tbody tr th:only-of-type {\n",
       "        vertical-align: middle;\n",
       "    }\n",
       "\n",
       "    .dataframe tbody tr th {\n",
       "        vertical-align: top;\n",
       "    }\n",
       "\n",
       "    .dataframe thead th {\n",
       "        text-align: right;\n",
       "    }\n",
       "</style>\n",
       "<table border=\"1\" class=\"dataframe\">\n",
       "  <thead>\n",
       "    <tr style=\"text-align: right;\">\n",
       "      <th></th>\n",
       "      <th>0</th>\n",
       "      <th>1</th>\n",
       "      <th>2</th>\n",
       "      <th>3</th>\n",
       "      <th>4</th>\n",
       "    </tr>\n",
       "  </thead>\n",
       "  <tbody>\n",
       "    <tr>\n",
       "      <td>date_block_num</td>\n",
       "      <td>0.00</td>\n",
       "      <td>0.00</td>\n",
       "      <td>0.00</td>\n",
       "      <td>0.00</td>\n",
       "      <td>0.00</td>\n",
       "    </tr>\n",
       "    <tr>\n",
       "      <td>shop_id</td>\n",
       "      <td>2.00</td>\n",
       "      <td>2.00</td>\n",
       "      <td>2.00</td>\n",
       "      <td>2.00</td>\n",
       "      <td>2.00</td>\n",
       "    </tr>\n",
       "    <tr>\n",
       "      <td>item_id</td>\n",
       "      <td>33.00</td>\n",
       "      <td>482.00</td>\n",
       "      <td>491.00</td>\n",
       "      <td>839.00</td>\n",
       "      <td>1007.00</td>\n",
       "    </tr>\n",
       "    <tr>\n",
       "      <td>item_category_id</td>\n",
       "      <td>2.00</td>\n",
       "      <td>19.00</td>\n",
       "      <td>19.00</td>\n",
       "      <td>19.00</td>\n",
       "      <td>19.00</td>\n",
       "    </tr>\n",
       "    <tr>\n",
       "      <td>item_price</td>\n",
       "      <td>499.00</td>\n",
       "      <td>3300.00</td>\n",
       "      <td>600.00</td>\n",
       "      <td>3300.00</td>\n",
       "      <td>1347.00</td>\n",
       "    </tr>\n",
       "    <tr>\n",
       "      <td>mean_item_price</td>\n",
       "      <td>499.00</td>\n",
       "      <td>3300.00</td>\n",
       "      <td>600.00</td>\n",
       "      <td>3300.00</td>\n",
       "      <td>449.00</td>\n",
       "    </tr>\n",
       "    <tr>\n",
       "      <td>item_cnt</td>\n",
       "      <td>1.00</td>\n",
       "      <td>1.00</td>\n",
       "      <td>1.00</td>\n",
       "      <td>1.00</td>\n",
       "      <td>3.00</td>\n",
       "    </tr>\n",
       "    <tr>\n",
       "      <td>mean_item_cnt</td>\n",
       "      <td>1.00</td>\n",
       "      <td>1.00</td>\n",
       "      <td>1.00</td>\n",
       "      <td>1.00</td>\n",
       "      <td>1.00</td>\n",
       "    </tr>\n",
       "    <tr>\n",
       "      <td>transactions</td>\n",
       "      <td>1.00</td>\n",
       "      <td>1.00</td>\n",
       "      <td>1.00</td>\n",
       "      <td>1.00</td>\n",
       "      <td>3.00</td>\n",
       "    </tr>\n",
       "  </tbody>\n",
       "</table>\n",
       "</div>"
      ],
      "text/plain": [
       "                      0       1      2       3       4\n",
       "date_block_num     0.00    0.00   0.00    0.00    0.00\n",
       "shop_id            2.00    2.00   2.00    2.00    2.00\n",
       "item_id           33.00  482.00 491.00  839.00 1007.00\n",
       "item_category_id   2.00   19.00  19.00   19.00   19.00\n",
       "item_price       499.00 3300.00 600.00 3300.00 1347.00\n",
       "mean_item_price  499.00 3300.00 600.00 3300.00  449.00\n",
       "item_cnt           1.00    1.00   1.00    1.00    3.00\n",
       "mean_item_cnt      1.00    1.00   1.00    1.00    1.00\n",
       "transactions       1.00    1.00   1.00    1.00    3.00"
      ]
     },
     "execution_count": 15,
     "metadata": {},
     "output_type": "execute_result"
    }
   ],
   "source": [
    "train_monthly.head().T"
   ]
  },
  {
   "cell_type": "code",
   "execution_count": 16,
   "metadata": {
    "_uuid": "848d24b66d9b499e0f7a369b32ca2adfa64ce55d"
   },
   "outputs": [
    {
     "data": {
      "text/html": [
       "<div>\n",
       "<style scoped>\n",
       "    .dataframe tbody tr th:only-of-type {\n",
       "        vertical-align: middle;\n",
       "    }\n",
       "\n",
       "    .dataframe tbody tr th {\n",
       "        vertical-align: top;\n",
       "    }\n",
       "\n",
       "    .dataframe thead th {\n",
       "        text-align: right;\n",
       "    }\n",
       "</style>\n",
       "<table border=\"1\" class=\"dataframe\">\n",
       "  <thead>\n",
       "    <tr style=\"text-align: right;\">\n",
       "      <th></th>\n",
       "      <th>count</th>\n",
       "      <th>mean</th>\n",
       "      <th>std</th>\n",
       "      <th>min</th>\n",
       "      <th>25%</th>\n",
       "      <th>50%</th>\n",
       "      <th>75%</th>\n",
       "      <th>max</th>\n",
       "    </tr>\n",
       "  </thead>\n",
       "  <tbody>\n",
       "    <tr>\n",
       "      <td>date_block_num</td>\n",
       "      <td>6734448.00</td>\n",
       "      <td>16.50</td>\n",
       "      <td>9.81</td>\n",
       "      <td>0.00</td>\n",
       "      <td>8.00</td>\n",
       "      <td>16.50</td>\n",
       "      <td>25.00</td>\n",
       "      <td>33.00</td>\n",
       "    </tr>\n",
       "    <tr>\n",
       "      <td>shop_id</td>\n",
       "      <td>6734448.00</td>\n",
       "      <td>31.64</td>\n",
       "      <td>17.56</td>\n",
       "      <td>2.00</td>\n",
       "      <td>16.00</td>\n",
       "      <td>34.50</td>\n",
       "      <td>47.00</td>\n",
       "      <td>59.00</td>\n",
       "    </tr>\n",
       "    <tr>\n",
       "      <td>item_id</td>\n",
       "      <td>6734448.00</td>\n",
       "      <td>11041.89</td>\n",
       "      <td>6210.74</td>\n",
       "      <td>30.00</td>\n",
       "      <td>5385.25</td>\n",
       "      <td>11265.50</td>\n",
       "      <td>16068.25</td>\n",
       "      <td>22167.00</td>\n",
       "    </tr>\n",
       "    <tr>\n",
       "      <td>item_category_id</td>\n",
       "      <td>6734448.00</td>\n",
       "      <td>3.94</td>\n",
       "      <td>13.35</td>\n",
       "      <td>0.00</td>\n",
       "      <td>0.00</td>\n",
       "      <td>0.00</td>\n",
       "      <td>0.00</td>\n",
       "      <td>83.00</td>\n",
       "    </tr>\n",
       "    <tr>\n",
       "      <td>item_price</td>\n",
       "      <td>6734448.00</td>\n",
       "      <td>187.35</td>\n",
       "      <td>2171.80</td>\n",
       "      <td>0.00</td>\n",
       "      <td>0.00</td>\n",
       "      <td>0.00</td>\n",
       "      <td>0.00</td>\n",
       "      <td>515573.59</td>\n",
       "    </tr>\n",
       "    <tr>\n",
       "      <td>mean_item_price</td>\n",
       "      <td>6734448.00</td>\n",
       "      <td>81.13</td>\n",
       "      <td>531.16</td>\n",
       "      <td>0.00</td>\n",
       "      <td>0.00</td>\n",
       "      <td>0.00</td>\n",
       "      <td>0.00</td>\n",
       "      <td>42990.00</td>\n",
       "    </tr>\n",
       "    <tr>\n",
       "      <td>item_cnt</td>\n",
       "      <td>6734448.00</td>\n",
       "      <td>0.24</td>\n",
       "      <td>3.46</td>\n",
       "      <td>-4.00</td>\n",
       "      <td>0.00</td>\n",
       "      <td>0.00</td>\n",
       "      <td>0.00</td>\n",
       "      <td>2253.00</td>\n",
       "    </tr>\n",
       "    <tr>\n",
       "      <td>mean_item_cnt</td>\n",
       "      <td>6734448.00</td>\n",
       "      <td>0.10</td>\n",
       "      <td>0.61</td>\n",
       "      <td>-2.00</td>\n",
       "      <td>0.00</td>\n",
       "      <td>0.00</td>\n",
       "      <td>0.00</td>\n",
       "      <td>1000.00</td>\n",
       "    </tr>\n",
       "    <tr>\n",
       "      <td>transactions</td>\n",
       "      <td>6734448.00</td>\n",
       "      <td>0.18</td>\n",
       "      <td>0.90</td>\n",
       "      <td>0.00</td>\n",
       "      <td>0.00</td>\n",
       "      <td>0.00</td>\n",
       "      <td>0.00</td>\n",
       "      <td>31.00</td>\n",
       "    </tr>\n",
       "  </tbody>\n",
       "</table>\n",
       "</div>"
      ],
      "text/plain": [
       "                      count     mean     std   min     25%      50%      75%  \\\n",
       "date_block_num   6734448.00    16.50    9.81  0.00    8.00    16.50    25.00   \n",
       "shop_id          6734448.00    31.64   17.56  2.00   16.00    34.50    47.00   \n",
       "item_id          6734448.00 11041.89 6210.74 30.00 5385.25 11265.50 16068.25   \n",
       "item_category_id 6734448.00     3.94   13.35  0.00    0.00     0.00     0.00   \n",
       "item_price       6734448.00   187.35 2171.80  0.00    0.00     0.00     0.00   \n",
       "mean_item_price  6734448.00    81.13  531.16  0.00    0.00     0.00     0.00   \n",
       "item_cnt         6734448.00     0.24    3.46 -4.00    0.00     0.00     0.00   \n",
       "mean_item_cnt    6734448.00     0.10    0.61 -2.00    0.00     0.00     0.00   \n",
       "transactions     6734448.00     0.18    0.90  0.00    0.00     0.00     0.00   \n",
       "\n",
       "                       max  \n",
       "date_block_num       33.00  \n",
       "shop_id              59.00  \n",
       "item_id           22167.00  \n",
       "item_category_id     83.00  \n",
       "item_price       515573.59  \n",
       "mean_item_price   42990.00  \n",
       "item_cnt           2253.00  \n",
       "mean_item_cnt      1000.00  \n",
       "transactions         31.00  "
      ]
     },
     "execution_count": 16,
     "metadata": {},
     "output_type": "execute_result"
    }
   ],
   "source": [
    "train_monthly.describe().T"
   ]
  },
  {
   "cell_type": "code",
   "execution_count": 17,
   "metadata": {
    "_uuid": "f31f80982ae23b65c6cd3b78ac6d72613d79db69"
   },
   "outputs": [],
   "source": [
    "# Extraer la fecha basado en las características.\n",
    "train_monthly['year'] = train_monthly['date_block_num'].apply(lambda x: ((x//12) + 2013))\n",
    "train_monthly['month'] = train_monthly['date_block_num'].apply(lambda x: (x % 12))"
   ]
  },
  {
   "cell_type": "markdown",
   "metadata": {
    "_uuid": "47e69a110e7cbbda02a5335284b3cf7840bad1e5"
   },
   "source": [
    "### EDA"
   ]
  },
  {
   "cell_type": "code",
   "execution_count": 18,
   "metadata": {
    "_kg_hide-input": true,
    "_uuid": "1d5a8d6bb8c546dfd59cb323a3aefb2e21f089e3"
   },
   "outputs": [],
   "source": [
    "# Agrupación de la información para el Análisis EDA.\n",
    "gp_month_mean = train_monthly.groupby(['month'], as_index=False)['item_cnt'].mean()\n",
    "gp_month_sum = train_monthly.groupby(['month'], as_index=False)['item_cnt'].sum()\n",
    "gp_category_mean = train_monthly.groupby(['item_category_id'], as_index=False)['item_cnt'].mean()\n",
    "gp_category_sum = train_monthly.groupby(['item_category_id'], as_index=False)['item_cnt'].sum()\n",
    "gp_shop_mean = train_monthly.groupby(['shop_id'], as_index=False)['item_cnt'].mean()\n",
    "gp_shop_sum = train_monthly.groupby(['shop_id'], as_index=False)['item_cnt'].sum()"
   ]
  },
  {
   "cell_type": "markdown",
   "metadata": {
    "_uuid": "da01e74039e1387b6cdf4a1ace8ac9c8a1fe2f3a"
   },
   "source": [
    "### ¿Cómo se comportan las ventas a lo largo del año?"
   ]
  },
  {
   "cell_type": "code",
   "execution_count": 19,
   "metadata": {
    "_kg_hide-input": true,
    "_uuid": "d17df33e559832a26514aa0598578cf4d780a783"
   },
   "outputs": [
    {
     "data": {
      "image/png": "[encoded data removed]",
      "text/plain": [
       "<Figure size 1584x720 with 2 Axes>"
      ]
     },
     "metadata": {
      "needs_background": "light"
     },
     "output_type": "display_data"
    }
   ],
   "source": [
    "f, axes = plt.subplots(2, 1, figsize=(22, 10), sharex=True)\n",
    "sns.lineplot(x=\"month\", y=\"item_cnt\", data=gp_month_mean, ax=axes[0]).set_title(\"Monthly mean\")\n",
    "sns.lineplot(x=\"month\", y=\"item_cnt\", data=gp_month_sum, ax=axes[1]).set_title(\"Monthly sum\")\n",
    "plt.show()"
   ]
  },
  {
   "cell_type": "markdown",
   "metadata": {
    "_uuid": "62d85d98651690f0f9905bbbee1cef1cb445467d"
   },
   "source": [
    "Es preciso apreciar que, se tiene un aumento en la tendencia del recuento de ventas de artículos (media) hacia el final del año."
   ]
  },
  {
   "cell_type": "markdown",
   "metadata": {
    "_uuid": "edc8f8451e7ffaa4f3da558749e871e2b2ef4a53"
   },
   "source": [
    "### ¿Qué categoría es la que presenta mayor índice de ventas?"
   ]
  },
  {
   "cell_type": "code",
   "execution_count": 20,
   "metadata": {
    "_kg_hide-input": true,
    "_uuid": "bc17569ef37ca05d8095ed3c2497fad1d12fc7d2"
   },
   "outputs": [
    {
     "data": {
      "image/png": "[encoded data removed]",
      "text/plain": [
       "<Figure size 1584x720 with 2 Axes>"
      ]
     },
     "metadata": {
      "needs_background": "light"
     },
     "output_type": "display_data"
    }
   ],
   "source": [
    "f, axes = plt.subplots(2, 1, figsize=(22, 10), sharex=True)\n",
    "sns.barplot(x=\"item_category_id\", y=\"item_cnt\", data=gp_category_mean, ax=axes[0], palette=\"rocket\").set_title(\"Monthly mean\")\n",
    "sns.barplot(x=\"item_category_id\", y=\"item_cnt\", data=gp_category_sum, ax=axes[1], palette=\"rocket\").set_title(\"Monthly sum\")\n",
    "plt.show()"
   ]
  },
  {
   "cell_type": "markdown",
   "metadata": {
    "_uuid": "c66c0208451f565f8bcc889aaaf2ef63a663e310"
   },
   "source": [
    "Solo algunas de las categorías parecen contener la mayor parte del recuento de ventas."
   ]
  },
  {
   "cell_type": "markdown",
   "metadata": {
    "_uuid": "f40b9c8d09d4406657d6a5fd632f6faf80560934"
   },
   "source": [
    "### ¿Qué tienda es la que más vende?"
   ]
  },
  {
   "cell_type": "code",
   "execution_count": 21,
   "metadata": {
    "_kg_hide-input": true,
    "_uuid": "e3697d0b3f72ffd76c4e980fc0e4eda7c56e551a"
   },
   "outputs": [
    {
     "data": {
      "image/png": "[encoded data removed]",
      "text/plain": [
       "<Figure size 1584x720 with 2 Axes>"
      ]
     },
     "metadata": {
      "needs_background": "light"
     },
     "output_type": "display_data"
    }
   ],
   "source": [
    "f, axes = plt.subplots(2, 1, figsize=(22, 10), sharex=True)\n",
    "sns.barplot(x=\"shop_id\", y=\"item_cnt\", data=gp_shop_mean, ax=axes[0], palette=\"rocket\").set_title(\"Monthly mean\")\n",
    "sns.barplot(x=\"shop_id\", y=\"item_cnt\", data=gp_shop_sum, ax=axes[1], palette=\"rocket\").set_title(\"Monthly sum\")\n",
    "plt.show()"
   ]
  },
  {
   "cell_type": "markdown",
   "metadata": {
    "_uuid": "27f8b2a14c4a629fbf8d00378df36c61f0dab6f7"
   },
   "source": [
    "La mayoría de las tiendas tienen una tasa de venta similar, pero 3 de ellas tienen una tasa mucho más alta, esto puede ser un indicador del tamaño de la tienda."
   ]
  },
  {
   "cell_type": "markdown",
   "metadata": {
    "_uuid": "b0197e0bd9898b0a7c3861636708bda74311949f"
   },
   "source": [
    "### Comprobación de valores atípicos"
   ]
  },
  {
   "cell_type": "code",
   "execution_count": 22,
   "metadata": {
    "_kg_hide-input": true,
    "_uuid": "7ec1f1c8a32f994519982d975bf81120e0862adc"
   },
   "outputs": [
    {
     "data": {
      "image/png": "[encoded data removed]",
      "text/plain": [
       "<Figure size 576x576 with 3 Axes>"
      ]
     },
     "metadata": {
      "needs_background": "light"
     },
     "output_type": "display_data"
    }
   ],
   "source": [
    "sns.jointplot(x=\"item_cnt\", y=\"item_price\", data=train_monthly, height=8)\n",
    "plt.show()"
   ]
  },
  {
   "cell_type": "code",
   "execution_count": 23,
   "metadata": {
    "_kg_hide-input": true,
    "_uuid": "a195281a43adca4c46eb802e49ee964468da8e95"
   },
   "outputs": [
    {
     "data": {
      "image/png": "[encoded data removed]",
      "text/plain": [
       "<Figure size 576x576 with 3 Axes>"
      ]
     },
     "metadata": {
      "needs_background": "light"
     },
     "output_type": "display_data"
    }
   ],
   "source": [
    "sns.jointplot(x=\"item_cnt\", y=\"transactions\", data=train_monthly, height=8)\n",
    "plt.show()"
   ]
  },
  {
   "cell_type": "markdown",
   "metadata": {
    "_uuid": "1c68744022333cb0b0aac42c3f173eca4a40c1d2"
   },
   "source": [
    "### Distribución del atributo \"item_cnt\"."
   ]
  },
  {
   "cell_type": "code",
   "execution_count": 24,
   "metadata": {
    "_kg_hide-input": true,
    "_uuid": "22dc755fb7984aa016def26c104a1a7b24c2ed08"
   },
   "outputs": [
    {
     "data": {
      "image/png": "[encoded data removed]",
      "text/plain": [
       "<Figure size 1584x576 with 1 Axes>"
      ]
     },
     "metadata": {
      "needs_background": "light"
     },
     "output_type": "display_data"
    }
   ],
   "source": [
    "plt.subplots(figsize=(22, 8))\n",
    "sns.boxplot(train_monthly['item_cnt'])\n",
    "plt.show()"
   ]
  },
  {
   "cell_type": "markdown",
   "metadata": {
    "_uuid": "a1c36960fcfc7ba663d2d7b95af4a1d5b5d0326b"
   },
   "source": [
    "#### Se remueven los valore atípicos\n",
    "Para los datos \"item_cnt\" > 20 y < 0, \"item_price\" >= 400000 se consideran valores artículos, por lo cual serán eliminados."
   ]
  },
  {
   "cell_type": "code",
   "execution_count": 25,
   "metadata": {
    "_uuid": "5d4f1ba256e10cca24bbf1f62fc504809cf40871"
   },
   "outputs": [],
   "source": [
    "train_monthly = train_monthly.query('item_cnt >= 0 and item_cnt <= 20 and item_price < 400000')"
   ]
  },
  {
   "cell_type": "markdown",
   "metadata": {
    "_uuid": "84c6a22589ec31a2283140c23a747c179d6694a5"
   },
   "source": [
    "### Creación de la Variable Dependiente\n",
    "La etiqueta será sobre \"item_cnt\" del próximo mes, ya que estamos lidiando con un problema de pronóstico."
   ]
  },
  {
   "cell_type": "code",
   "execution_count": 26,
   "metadata": {
    "_uuid": "e790012087340e3fbf72c10ffa953255528d1a52"
   },
   "outputs": [],
   "source": [
    "train_monthly['item_cnt_month'] = train_monthly.sort_values('date_block_num').groupby(['shop_id', 'item_id'])['item_cnt'].shift(-1)"
   ]
  },
  {
   "cell_type": "markdown",
   "metadata": {
    "_cell_guid": "79c7e3d0-c299-4dcb-8224-4455121ee9b0",
    "_uuid": "d629ff2d2480ee46fbb7e2d37f6b5fab8052498a",
    "collapsed": true
   },
   "source": [
    "### Selección de Atributos\n",
    "\n",
    "#### Precio de artículos unitariamente"
   ]
  },
  {
   "cell_type": "code",
   "execution_count": 27,
   "metadata": {
    "_uuid": "b49cf1f316bd467149fe948482210cc474edf8ff"
   },
   "outputs": [],
   "source": [
    "train_monthly['item_price_unit'] = train_monthly['item_price'] // train_monthly['item_cnt']\n",
    "train_monthly['item_price_unit'].fillna(0, inplace=True)"
   ]
  },
  {
   "cell_type": "markdown",
   "metadata": {
    "_uuid": "cc85cb53741fb9efe03de4573f15674f7e01868a"
   },
   "source": [
    "#### Atributos basados en grupos."
   ]
  },
  {
   "cell_type": "code",
   "execution_count": 28,
   "metadata": {
    "_uuid": "f4d3a338b82b6a0a4f00f8c46af98d43c41bf6cf"
   },
   "outputs": [],
   "source": [
    "gp_item_price = train_monthly.sort_values('date_block_num').groupby(['item_id'], as_index=False).agg({'item_price':[np.min, np.max]})\n",
    "gp_item_price.columns = ['item_id', 'hist_min_item_price', 'hist_max_item_price']\n",
    "\n",
    "train_monthly = pd.merge(train_monthly, gp_item_price, on='item_id', how='left')"
   ]
  },
  {
   "cell_type": "markdown",
   "metadata": {
    "_uuid": "0450d445b6d973b3716967d761f884990991afad"
   },
   "source": [
    "#### ¿Cuánto cambió el precio de cada artículo desde su precio histórico (más bajo / más alto)."
   ]
  },
  {
   "cell_type": "code",
   "execution_count": 29,
   "metadata": {
    "_uuid": "b884111dcc00cf448f08f989ae6952bfd86af9ac"
   },
   "outputs": [],
   "source": [
    "train_monthly['price_increase'] = train_monthly['item_price'] - train_monthly['hist_min_item_price']\n",
    "train_monthly['price_decrease'] = train_monthly['hist_max_item_price'] - train_monthly['item_price']"
   ]
  },
  {
   "cell_type": "markdown",
   "metadata": {
    "_uuid": "e90df0bcb5588dbf252f2aaf2b3135963d187f85"
   },
   "source": [
    "#### Características basadas en la venta (venta = 3 meses)."
   ]
  },
  {
   "cell_type": "code",
   "execution_count": 30,
   "metadata": {
    "_uuid": "c1763430ebcdade655aad80f16cc114d6b64c5fb"
   },
   "outputs": [],
   "source": [
    "# Valor mínimo\n",
    "f_min = lambda x: x.rolling(window=3, min_periods=1).min()\n",
    "\n",
    "# Valor máximo\n",
    "f_max = lambda x: x.rolling(window=3, min_periods=1).max()\n",
    "\n",
    "# Valor medio\n",
    "f_mean = lambda x: x.rolling(window=3, min_periods=1).mean()\n",
    "\n",
    "# Desviación Estándar\n",
    "f_std = lambda x: x.rolling(window=3, min_periods=1).std()\n",
    "\n",
    "function_list = [f_min, f_max, f_mean, f_std]\n",
    "function_name = ['min', 'max', 'mean', 'std']\n",
    "\n",
    "for i in range(len(function_list)):\n",
    "    train_monthly[('item_cnt_%s' % function_name[i])] = train_monthly.sort_values('date_block_num').groupby(['shop_id', 'item_category_id', 'item_id'])['item_cnt'].apply(function_list[i])\n",
    "\n",
    "# Relleno de características vacías con 0\n",
    "train_monthly['item_cnt_std'].fillna(0, inplace=True)"
   ]
  },
  {
   "cell_type": "markdown",
   "metadata": {
    "_uuid": "14fd3a220a05de5563597c7d2efd21309e03dd34"
   },
   "source": [
    "#### Características basadas en el retraso"
   ]
  },
  {
   "cell_type": "code",
   "execution_count": 31,
   "metadata": {
    "_uuid": "8660a0955ffc6f51d1769a30606ffca78792dc7e"
   },
   "outputs": [],
   "source": [
    "lag_list = [1, 2, 3]\n",
    "\n",
    "for lag in lag_list:\n",
    "    ft_name = ('item_cnt_shifted%s' % lag)\n",
    "    train_monthly[ft_name] = train_monthly.sort_values('date_block_num').groupby(['shop_id', 'item_category_id', 'item_id'])['item_cnt'].shift(lag)\n",
    "    \n",
    "    # Relleno de características desplazadas con 0\n",
    "    train_monthly[ft_name].fillna(0, inplace=True)"
   ]
  },
  {
   "cell_type": "markdown",
   "metadata": {
    "_uuid": "67d5a74531a16b50093d49c9093aa918854664ed"
   },
   "source": [
    "#### Tendencia de ventas de artículos"
   ]
  },
  {
   "cell_type": "code",
   "execution_count": 32,
   "metadata": {
    "_uuid": "0217e8b8ec14a43f733d241d2104ad411b965944"
   },
   "outputs": [],
   "source": [
    "train_monthly['item_trend'] = train_monthly['item_cnt']\n",
    "\n",
    "for lag in lag_list:\n",
    "    ft_name = ('item_cnt_shifted%s' % lag)\n",
    "    train_monthly['item_trend'] -= train_monthly[ft_name]\n",
    "\n",
    "train_monthly['item_trend'] /= len(lag_list) + 1"
   ]
  },
  {
   "cell_type": "markdown",
   "metadata": {
    "_uuid": "a440f63fc8e5e203f6a421d7863f39a85da75fc9"
   },
   "source": [
    "### Set de Datos después de la selección de características"
   ]
  },
  {
   "cell_type": "code",
   "execution_count": 33,
   "metadata": {
    "_kg_hide-input": true,
    "_uuid": "f86a1a03e9df91f0ae526e7f1b3794a73e605657",
    "scrolled": true
   },
   "outputs": [
    {
     "data": {
      "text/html": [
       "<div>\n",
       "<style scoped>\n",
       "    .dataframe tbody tr th:only-of-type {\n",
       "        vertical-align: middle;\n",
       "    }\n",
       "\n",
       "    .dataframe tbody tr th {\n",
       "        vertical-align: top;\n",
       "    }\n",
       "\n",
       "    .dataframe thead th {\n",
       "        text-align: right;\n",
       "    }\n",
       "</style>\n",
       "<table border=\"1\" class=\"dataframe\">\n",
       "  <thead>\n",
       "    <tr style=\"text-align: right;\">\n",
       "      <th></th>\n",
       "      <th>0</th>\n",
       "      <th>1</th>\n",
       "      <th>2</th>\n",
       "      <th>3</th>\n",
       "      <th>4</th>\n",
       "    </tr>\n",
       "  </thead>\n",
       "  <tbody>\n",
       "    <tr>\n",
       "      <td>date_block_num</td>\n",
       "      <td>0.00</td>\n",
       "      <td>0.00</td>\n",
       "      <td>0.00</td>\n",
       "      <td>0.00</td>\n",
       "      <td>0.00</td>\n",
       "    </tr>\n",
       "    <tr>\n",
       "      <td>shop_id</td>\n",
       "      <td>2.00</td>\n",
       "      <td>2.00</td>\n",
       "      <td>2.00</td>\n",
       "      <td>2.00</td>\n",
       "      <td>2.00</td>\n",
       "    </tr>\n",
       "    <tr>\n",
       "      <td>item_id</td>\n",
       "      <td>33.00</td>\n",
       "      <td>482.00</td>\n",
       "      <td>491.00</td>\n",
       "      <td>839.00</td>\n",
       "      <td>1007.00</td>\n",
       "    </tr>\n",
       "    <tr>\n",
       "      <td>item_category_id</td>\n",
       "      <td>2.00</td>\n",
       "      <td>19.00</td>\n",
       "      <td>19.00</td>\n",
       "      <td>19.00</td>\n",
       "      <td>19.00</td>\n",
       "    </tr>\n",
       "    <tr>\n",
       "      <td>item_price</td>\n",
       "      <td>499.00</td>\n",
       "      <td>3300.00</td>\n",
       "      <td>600.00</td>\n",
       "      <td>3300.00</td>\n",
       "      <td>1347.00</td>\n",
       "    </tr>\n",
       "    <tr>\n",
       "      <td>mean_item_price</td>\n",
       "      <td>499.00</td>\n",
       "      <td>3300.00</td>\n",
       "      <td>600.00</td>\n",
       "      <td>3300.00</td>\n",
       "      <td>449.00</td>\n",
       "    </tr>\n",
       "    <tr>\n",
       "      <td>item_cnt</td>\n",
       "      <td>1.00</td>\n",
       "      <td>1.00</td>\n",
       "      <td>1.00</td>\n",
       "      <td>1.00</td>\n",
       "      <td>3.00</td>\n",
       "    </tr>\n",
       "    <tr>\n",
       "      <td>mean_item_cnt</td>\n",
       "      <td>1.00</td>\n",
       "      <td>1.00</td>\n",
       "      <td>1.00</td>\n",
       "      <td>1.00</td>\n",
       "      <td>1.00</td>\n",
       "    </tr>\n",
       "    <tr>\n",
       "      <td>transactions</td>\n",
       "      <td>1.00</td>\n",
       "      <td>1.00</td>\n",
       "      <td>1.00</td>\n",
       "      <td>1.00</td>\n",
       "      <td>3.00</td>\n",
       "    </tr>\n",
       "    <tr>\n",
       "      <td>year</td>\n",
       "      <td>2013.00</td>\n",
       "      <td>2013.00</td>\n",
       "      <td>2013.00</td>\n",
       "      <td>2013.00</td>\n",
       "      <td>2013.00</td>\n",
       "    </tr>\n",
       "    <tr>\n",
       "      <td>month</td>\n",
       "      <td>0.00</td>\n",
       "      <td>0.00</td>\n",
       "      <td>0.00</td>\n",
       "      <td>0.00</td>\n",
       "      <td>0.00</td>\n",
       "    </tr>\n",
       "    <tr>\n",
       "      <td>item_cnt_month</td>\n",
       "      <td>0.00</td>\n",
       "      <td>1.00</td>\n",
       "      <td>0.00</td>\n",
       "      <td>1.00</td>\n",
       "      <td>1.00</td>\n",
       "    </tr>\n",
       "    <tr>\n",
       "      <td>item_price_unit</td>\n",
       "      <td>499.00</td>\n",
       "      <td>3300.00</td>\n",
       "      <td>600.00</td>\n",
       "      <td>3300.00</td>\n",
       "      <td>449.00</td>\n",
       "    </tr>\n",
       "    <tr>\n",
       "      <td>hist_min_item_price</td>\n",
       "      <td>0.00</td>\n",
       "      <td>0.00</td>\n",
       "      <td>0.00</td>\n",
       "      <td>0.00</td>\n",
       "      <td>0.00</td>\n",
       "    </tr>\n",
       "    <tr>\n",
       "      <td>hist_max_item_price</td>\n",
       "      <td>2994.00</td>\n",
       "      <td>49400.00</td>\n",
       "      <td>4680.00</td>\n",
       "      <td>45870.00</td>\n",
       "      <td>7188.00</td>\n",
       "    </tr>\n",
       "    <tr>\n",
       "      <td>price_increase</td>\n",
       "      <td>499.00</td>\n",
       "      <td>3300.00</td>\n",
       "      <td>600.00</td>\n",
       "      <td>3300.00</td>\n",
       "      <td>1347.00</td>\n",
       "    </tr>\n",
       "    <tr>\n",
       "      <td>price_decrease</td>\n",
       "      <td>2495.00</td>\n",
       "      <td>46100.00</td>\n",
       "      <td>4080.00</td>\n",
       "      <td>42570.00</td>\n",
       "      <td>5841.00</td>\n",
       "    </tr>\n",
       "    <tr>\n",
       "      <td>item_cnt_min</td>\n",
       "      <td>1.00</td>\n",
       "      <td>1.00</td>\n",
       "      <td>1.00</td>\n",
       "      <td>1.00</td>\n",
       "      <td>3.00</td>\n",
       "    </tr>\n",
       "    <tr>\n",
       "      <td>item_cnt_max</td>\n",
       "      <td>1.00</td>\n",
       "      <td>1.00</td>\n",
       "      <td>1.00</td>\n",
       "      <td>1.00</td>\n",
       "      <td>3.00</td>\n",
       "    </tr>\n",
       "    <tr>\n",
       "      <td>item_cnt_mean</td>\n",
       "      <td>1.00</td>\n",
       "      <td>1.00</td>\n",
       "      <td>1.00</td>\n",
       "      <td>1.00</td>\n",
       "      <td>3.00</td>\n",
       "    </tr>\n",
       "    <tr>\n",
       "      <td>item_cnt_std</td>\n",
       "      <td>0.00</td>\n",
       "      <td>0.00</td>\n",
       "      <td>0.00</td>\n",
       "      <td>0.00</td>\n",
       "      <td>0.00</td>\n",
       "    </tr>\n",
       "    <tr>\n",
       "      <td>item_cnt_shifted1</td>\n",
       "      <td>0.00</td>\n",
       "      <td>0.00</td>\n",
       "      <td>0.00</td>\n",
       "      <td>0.00</td>\n",
       "      <td>0.00</td>\n",
       "    </tr>\n",
       "    <tr>\n",
       "      <td>item_cnt_shifted2</td>\n",
       "      <td>0.00</td>\n",
       "      <td>0.00</td>\n",
       "      <td>0.00</td>\n",
       "      <td>0.00</td>\n",
       "      <td>0.00</td>\n",
       "    </tr>\n",
       "    <tr>\n",
       "      <td>item_cnt_shifted3</td>\n",
       "      <td>0.00</td>\n",
       "      <td>0.00</td>\n",
       "      <td>0.00</td>\n",
       "      <td>0.00</td>\n",
       "      <td>0.00</td>\n",
       "    </tr>\n",
       "    <tr>\n",
       "      <td>item_trend</td>\n",
       "      <td>0.25</td>\n",
       "      <td>0.25</td>\n",
       "      <td>0.25</td>\n",
       "      <td>0.25</td>\n",
       "      <td>0.75</td>\n",
       "    </tr>\n",
       "  </tbody>\n",
       "</table>\n",
       "</div>"
      ],
      "text/plain": [
       "                          0        1       2        3       4\n",
       "date_block_num         0.00     0.00    0.00     0.00    0.00\n",
       "shop_id                2.00     2.00    2.00     2.00    2.00\n",
       "item_id               33.00   482.00  491.00   839.00 1007.00\n",
       "item_category_id       2.00    19.00   19.00    19.00   19.00\n",
       "item_price           499.00  3300.00  600.00  3300.00 1347.00\n",
       "mean_item_price      499.00  3300.00  600.00  3300.00  449.00\n",
       "item_cnt               1.00     1.00    1.00     1.00    3.00\n",
       "mean_item_cnt          1.00     1.00    1.00     1.00    1.00\n",
       "transactions           1.00     1.00    1.00     1.00    3.00\n",
       "year                2013.00  2013.00 2013.00  2013.00 2013.00\n",
       "month                  0.00     0.00    0.00     0.00    0.00\n",
       "item_cnt_month         0.00     1.00    0.00     1.00    1.00\n",
       "item_price_unit      499.00  3300.00  600.00  3300.00  449.00\n",
       "hist_min_item_price    0.00     0.00    0.00     0.00    0.00\n",
       "hist_max_item_price 2994.00 49400.00 4680.00 45870.00 7188.00\n",
       "price_increase       499.00  3300.00  600.00  3300.00 1347.00\n",
       "price_decrease      2495.00 46100.00 4080.00 42570.00 5841.00\n",
       "item_cnt_min           1.00     1.00    1.00     1.00    3.00\n",
       "item_cnt_max           1.00     1.00    1.00     1.00    3.00\n",
       "item_cnt_mean          1.00     1.00    1.00     1.00    3.00\n",
       "item_cnt_std           0.00     0.00    0.00     0.00    0.00\n",
       "item_cnt_shifted1      0.00     0.00    0.00     0.00    0.00\n",
       "item_cnt_shifted2      0.00     0.00    0.00     0.00    0.00\n",
       "item_cnt_shifted3      0.00     0.00    0.00     0.00    0.00\n",
       "item_trend             0.25     0.25    0.25     0.25    0.75"
      ]
     },
     "execution_count": 33,
     "metadata": {},
     "output_type": "execute_result"
    }
   ],
   "source": [
    "train_monthly.head().T"
   ]
  },
  {
   "cell_type": "code",
   "execution_count": 34,
   "metadata": {
    "_kg_hide-input": true,
    "_uuid": "f1c265db6d6363b18c684002edeed7fae6407b9b"
   },
   "outputs": [
    {
     "data": {
      "text/html": [
       "<div>\n",
       "<style scoped>\n",
       "    .dataframe tbody tr th:only-of-type {\n",
       "        vertical-align: middle;\n",
       "    }\n",
       "\n",
       "    .dataframe tbody tr th {\n",
       "        vertical-align: top;\n",
       "    }\n",
       "\n",
       "    .dataframe thead th {\n",
       "        text-align: right;\n",
       "    }\n",
       "</style>\n",
       "<table border=\"1\" class=\"dataframe\">\n",
       "  <thead>\n",
       "    <tr style=\"text-align: right;\">\n",
       "      <th></th>\n",
       "      <th>count</th>\n",
       "      <th>mean</th>\n",
       "      <th>std</th>\n",
       "      <th>min</th>\n",
       "      <th>25%</th>\n",
       "      <th>50%</th>\n",
       "      <th>75%</th>\n",
       "      <th>max</th>\n",
       "    </tr>\n",
       "  </thead>\n",
       "  <tbody>\n",
       "    <tr>\n",
       "      <td>date_block_num</td>\n",
       "      <td>6728118.00</td>\n",
       "      <td>16.50</td>\n",
       "      <td>9.81</td>\n",
       "      <td>0.00</td>\n",
       "      <td>8.00</td>\n",
       "      <td>16.00</td>\n",
       "      <td>25.00</td>\n",
       "      <td>33.00</td>\n",
       "    </tr>\n",
       "    <tr>\n",
       "      <td>shop_id</td>\n",
       "      <td>6728118.00</td>\n",
       "      <td>31.64</td>\n",
       "      <td>17.56</td>\n",
       "      <td>2.00</td>\n",
       "      <td>16.00</td>\n",
       "      <td>35.00</td>\n",
       "      <td>47.00</td>\n",
       "      <td>59.00</td>\n",
       "    </tr>\n",
       "    <tr>\n",
       "      <td>item_id</td>\n",
       "      <td>6728118.00</td>\n",
       "      <td>11042.87</td>\n",
       "      <td>6209.70</td>\n",
       "      <td>30.00</td>\n",
       "      <td>5386.00</td>\n",
       "      <td>11266.00</td>\n",
       "      <td>16068.00</td>\n",
       "      <td>22167.00</td>\n",
       "    </tr>\n",
       "    <tr>\n",
       "      <td>item_category_id</td>\n",
       "      <td>6728118.00</td>\n",
       "      <td>3.90</td>\n",
       "      <td>13.28</td>\n",
       "      <td>0.00</td>\n",
       "      <td>0.00</td>\n",
       "      <td>0.00</td>\n",
       "      <td>0.00</td>\n",
       "      <td>83.00</td>\n",
       "    </tr>\n",
       "    <tr>\n",
       "      <td>item_price</td>\n",
       "      <td>6728118.00</td>\n",
       "      <td>169.77</td>\n",
       "      <td>1792.01</td>\n",
       "      <td>0.00</td>\n",
       "      <td>0.00</td>\n",
       "      <td>0.00</td>\n",
       "      <td>0.00</td>\n",
       "      <td>366860.00</td>\n",
       "    </tr>\n",
       "    <tr>\n",
       "      <td>mean_item_price</td>\n",
       "      <td>6728118.00</td>\n",
       "      <td>79.71</td>\n",
       "      <td>522.27</td>\n",
       "      <td>0.00</td>\n",
       "      <td>0.00</td>\n",
       "      <td>0.00</td>\n",
       "      <td>0.00</td>\n",
       "      <td>42990.00</td>\n",
       "    </tr>\n",
       "    <tr>\n",
       "      <td>item_cnt</td>\n",
       "      <td>6728118.00</td>\n",
       "      <td>0.19</td>\n",
       "      <td>0.91</td>\n",
       "      <td>0.00</td>\n",
       "      <td>0.00</td>\n",
       "      <td>0.00</td>\n",
       "      <td>0.00</td>\n",
       "      <td>20.00</td>\n",
       "    </tr>\n",
       "    <tr>\n",
       "      <td>mean_item_cnt</td>\n",
       "      <td>6728118.00</td>\n",
       "      <td>0.09</td>\n",
       "      <td>0.31</td>\n",
       "      <td>0.00</td>\n",
       "      <td>0.00</td>\n",
       "      <td>0.00</td>\n",
       "      <td>0.00</td>\n",
       "      <td>20.00</td>\n",
       "    </tr>\n",
       "    <tr>\n",
       "      <td>transactions</td>\n",
       "      <td>6728118.00</td>\n",
       "      <td>0.17</td>\n",
       "      <td>0.74</td>\n",
       "      <td>0.00</td>\n",
       "      <td>0.00</td>\n",
       "      <td>0.00</td>\n",
       "      <td>0.00</td>\n",
       "      <td>19.00</td>\n",
       "    </tr>\n",
       "    <tr>\n",
       "      <td>year</td>\n",
       "      <td>6728118.00</td>\n",
       "      <td>2013.94</td>\n",
       "      <td>0.80</td>\n",
       "      <td>2013.00</td>\n",
       "      <td>2013.00</td>\n",
       "      <td>2014.00</td>\n",
       "      <td>2015.00</td>\n",
       "      <td>2015.00</td>\n",
       "    </tr>\n",
       "    <tr>\n",
       "      <td>month</td>\n",
       "      <td>6728118.00</td>\n",
       "      <td>5.21</td>\n",
       "      <td>3.32</td>\n",
       "      <td>0.00</td>\n",
       "      <td>2.00</td>\n",
       "      <td>5.00</td>\n",
       "      <td>8.00</td>\n",
       "      <td>11.00</td>\n",
       "    </tr>\n",
       "    <tr>\n",
       "      <td>item_cnt_month</td>\n",
       "      <td>6530047.00</td>\n",
       "      <td>0.19</td>\n",
       "      <td>0.91</td>\n",
       "      <td>0.00</td>\n",
       "      <td>0.00</td>\n",
       "      <td>0.00</td>\n",
       "      <td>0.00</td>\n",
       "      <td>20.00</td>\n",
       "    </tr>\n",
       "    <tr>\n",
       "      <td>item_price_unit</td>\n",
       "      <td>6728118.00</td>\n",
       "      <td>inf</td>\n",
       "      <td>nan</td>\n",
       "      <td>0.00</td>\n",
       "      <td>0.00</td>\n",
       "      <td>0.00</td>\n",
       "      <td>0.00</td>\n",
       "      <td>inf</td>\n",
       "    </tr>\n",
       "    <tr>\n",
       "      <td>hist_min_item_price</td>\n",
       "      <td>6728118.00</td>\n",
       "      <td>0.00</td>\n",
       "      <td>0.00</td>\n",
       "      <td>0.00</td>\n",
       "      <td>0.00</td>\n",
       "      <td>0.00</td>\n",
       "      <td>0.00</td>\n",
       "      <td>0.00</td>\n",
       "    </tr>\n",
       "    <tr>\n",
       "      <td>hist_max_item_price</td>\n",
       "      <td>6728118.00</td>\n",
       "      <td>5561.45</td>\n",
       "      <td>11482.78</td>\n",
       "      <td>0.00</td>\n",
       "      <td>1043.00</td>\n",
       "      <td>2408.00</td>\n",
       "      <td>5592.00</td>\n",
       "      <td>366860.00</td>\n",
       "    </tr>\n",
       "    <tr>\n",
       "      <td>price_increase</td>\n",
       "      <td>6728118.00</td>\n",
       "      <td>169.77</td>\n",
       "      <td>1792.01</td>\n",
       "      <td>0.00</td>\n",
       "      <td>0.00</td>\n",
       "      <td>0.00</td>\n",
       "      <td>0.00</td>\n",
       "      <td>366860.00</td>\n",
       "    </tr>\n",
       "    <tr>\n",
       "      <td>price_decrease</td>\n",
       "      <td>6728118.00</td>\n",
       "      <td>5396.79</td>\n",
       "      <td>11022.27</td>\n",
       "      <td>0.00</td>\n",
       "      <td>999.00</td>\n",
       "      <td>2396.00</td>\n",
       "      <td>5490.00</td>\n",
       "      <td>366860.00</td>\n",
       "    </tr>\n",
       "    <tr>\n",
       "      <td>item_cnt_min</td>\n",
       "      <td>6728118.00</td>\n",
       "      <td>0.14</td>\n",
       "      <td>0.69</td>\n",
       "      <td>0.00</td>\n",
       "      <td>0.00</td>\n",
       "      <td>0.00</td>\n",
       "      <td>0.00</td>\n",
       "      <td>20.00</td>\n",
       "    </tr>\n",
       "    <tr>\n",
       "      <td>item_cnt_max</td>\n",
       "      <td>6728118.00</td>\n",
       "      <td>0.26</td>\n",
       "      <td>1.25</td>\n",
       "      <td>0.00</td>\n",
       "      <td>0.00</td>\n",
       "      <td>0.00</td>\n",
       "      <td>0.00</td>\n",
       "      <td>20.00</td>\n",
       "    </tr>\n",
       "    <tr>\n",
       "      <td>item_cnt_mean</td>\n",
       "      <td>6728118.00</td>\n",
       "      <td>0.20</td>\n",
       "      <td>0.92</td>\n",
       "      <td>0.00</td>\n",
       "      <td>0.00</td>\n",
       "      <td>0.00</td>\n",
       "      <td>0.00</td>\n",
       "      <td>20.00</td>\n",
       "    </tr>\n",
       "    <tr>\n",
       "      <td>item_cnt_std</td>\n",
       "      <td>6728118.00</td>\n",
       "      <td>0.07</td>\n",
       "      <td>0.44</td>\n",
       "      <td>0.00</td>\n",
       "      <td>0.00</td>\n",
       "      <td>0.00</td>\n",
       "      <td>0.00</td>\n",
       "      <td>13.44</td>\n",
       "    </tr>\n",
       "    <tr>\n",
       "      <td>item_cnt_shifted1</td>\n",
       "      <td>6728118.00</td>\n",
       "      <td>0.16</td>\n",
       "      <td>0.88</td>\n",
       "      <td>0.00</td>\n",
       "      <td>0.00</td>\n",
       "      <td>0.00</td>\n",
       "      <td>0.00</td>\n",
       "      <td>20.00</td>\n",
       "    </tr>\n",
       "    <tr>\n",
       "      <td>item_cnt_shifted2</td>\n",
       "      <td>6728118.00</td>\n",
       "      <td>0.14</td>\n",
       "      <td>0.85</td>\n",
       "      <td>0.00</td>\n",
       "      <td>0.00</td>\n",
       "      <td>0.00</td>\n",
       "      <td>0.00</td>\n",
       "      <td>20.00</td>\n",
       "    </tr>\n",
       "    <tr>\n",
       "      <td>item_cnt_shifted3</td>\n",
       "      <td>6728118.00</td>\n",
       "      <td>0.13</td>\n",
       "      <td>0.82</td>\n",
       "      <td>0.00</td>\n",
       "      <td>0.00</td>\n",
       "      <td>0.00</td>\n",
       "      <td>0.00</td>\n",
       "      <td>20.00</td>\n",
       "    </tr>\n",
       "    <tr>\n",
       "      <td>item_trend</td>\n",
       "      <td>6728118.00</td>\n",
       "      <td>-0.06</td>\n",
       "      <td>0.44</td>\n",
       "      <td>-12.50</td>\n",
       "      <td>0.00</td>\n",
       "      <td>0.00</td>\n",
       "      <td>0.00</td>\n",
       "      <td>5.00</td>\n",
       "    </tr>\n",
       "  </tbody>\n",
       "</table>\n",
       "</div>"
      ],
      "text/plain": [
       "                         count     mean      std     min     25%      50%  \\\n",
       "date_block_num      6728118.00    16.50     9.81    0.00    8.00    16.00   \n",
       "shop_id             6728118.00    31.64    17.56    2.00   16.00    35.00   \n",
       "item_id             6728118.00 11042.87  6209.70   30.00 5386.00 11266.00   \n",
       "item_category_id    6728118.00     3.90    13.28    0.00    0.00     0.00   \n",
       "item_price          6728118.00   169.77  1792.01    0.00    0.00     0.00   \n",
       "mean_item_price     6728118.00    79.71   522.27    0.00    0.00     0.00   \n",
       "item_cnt            6728118.00     0.19     0.91    0.00    0.00     0.00   \n",
       "mean_item_cnt       6728118.00     0.09     0.31    0.00    0.00     0.00   \n",
       "transactions        6728118.00     0.17     0.74    0.00    0.00     0.00   \n",
       "year                6728118.00  2013.94     0.80 2013.00 2013.00  2014.00   \n",
       "month               6728118.00     5.21     3.32    0.00    2.00     5.00   \n",
       "item_cnt_month      6530047.00     0.19     0.91    0.00    0.00     0.00   \n",
       "item_price_unit     6728118.00      inf      nan    0.00    0.00     0.00   \n",
       "hist_min_item_price 6728118.00     0.00     0.00    0.00    0.00     0.00   \n",
       "hist_max_item_price 6728118.00  5561.45 11482.78    0.00 1043.00  2408.00   \n",
       "price_increase      6728118.00   169.77  1792.01    0.00    0.00     0.00   \n",
       "price_decrease      6728118.00  5396.79 11022.27    0.00  999.00  2396.00   \n",
       "item_cnt_min        6728118.00     0.14     0.69    0.00    0.00     0.00   \n",
       "item_cnt_max        6728118.00     0.26     1.25    0.00    0.00     0.00   \n",
       "item_cnt_mean       6728118.00     0.20     0.92    0.00    0.00     0.00   \n",
       "item_cnt_std        6728118.00     0.07     0.44    0.00    0.00     0.00   \n",
       "item_cnt_shifted1   6728118.00     0.16     0.88    0.00    0.00     0.00   \n",
       "item_cnt_shifted2   6728118.00     0.14     0.85    0.00    0.00     0.00   \n",
       "item_cnt_shifted3   6728118.00     0.13     0.82    0.00    0.00     0.00   \n",
       "item_trend          6728118.00    -0.06     0.44  -12.50    0.00     0.00   \n",
       "\n",
       "                         75%       max  \n",
       "date_block_num         25.00     33.00  \n",
       "shop_id                47.00     59.00  \n",
       "item_id             16068.00  22167.00  \n",
       "item_category_id        0.00     83.00  \n",
       "item_price              0.00 366860.00  \n",
       "mean_item_price         0.00  42990.00  \n",
       "item_cnt                0.00     20.00  \n",
       "mean_item_cnt           0.00     20.00  \n",
       "transactions            0.00     19.00  \n",
       "year                 2015.00   2015.00  \n",
       "month                   8.00     11.00  \n",
       "item_cnt_month          0.00     20.00  \n",
       "item_price_unit         0.00       inf  \n",
       "hist_min_item_price     0.00      0.00  \n",
       "hist_max_item_price  5592.00 366860.00  \n",
       "price_increase          0.00 366860.00  \n",
       "price_decrease       5490.00 366860.00  \n",
       "item_cnt_min            0.00     20.00  \n",
       "item_cnt_max            0.00     20.00  \n",
       "item_cnt_mean           0.00     20.00  \n",
       "item_cnt_std            0.00     13.44  \n",
       "item_cnt_shifted1       0.00     20.00  \n",
       "item_cnt_shifted2       0.00     20.00  \n",
       "item_cnt_shifted3       0.00     20.00  \n",
       "item_trend              0.00      5.00  "
      ]
     },
     "execution_count": 34,
     "metadata": {},
     "output_type": "execute_result"
    }
   ],
   "source": [
    "train_monthly.describe().T"
   ]
  },
  {
   "cell_type": "markdown",
   "metadata": {
    "_uuid": "b896cee032d77260bc2cc41189f1ab0c5b272f1f"
   },
   "source": [
    "### División de los conjuntos Train / Validation\n",
    "* Se conoce que la prueba establecida para el futuro es intentar simular la misma distribución en los conjuntos Train / Validation.\n",
    "* El conjunto de entrenamiento estará constituido por los primeros 3 a 28 bloques, la validación serán los últimos 5 bloques (29 a 32) y la prueba será con el bloque 33.\n",
    "* Se dejarán los primeros 3 meses por fuera, porque estos fueron usados como una ventana de 3 meses para generar la selección de atributos, por lo que estos primeros 3 meses realmente no tendrán características útiles."
   ]
  },
  {
   "cell_type": "code",
   "execution_count": 35,
   "metadata": {
    "_kg_hide-input": true,
    "_uuid": "02d50cae77983376643ecabb9e477220a94d28b2"
   },
   "outputs": [
    {
     "name": "stdout",
     "output_type": "stream",
     "text": [
      "Registros del conjunto de Entrenamiento: 4946785\n",
      "Registros del conjunto de Validación: 989412\n",
      "Registros del conjunto de Prueba: 197879\n",
      "Registros del conjunto de Entrenamiento: 4946785 (74% de datos completos)\n",
      "Registros del conjunto de Validación: 989412 (15% de datos completos)\n"
     ]
    }
   ],
   "source": [
    "train_set = train_monthly.query('date_block_num >= 3 and date_block_num < 28').copy()\n",
    "validation_set = train_monthly.query('date_block_num >= 28 and date_block_num < 33').copy()\n",
    "test_set = train_monthly.query('date_block_num == 33').copy()\n",
    "\n",
    "train_set.dropna(subset=['item_cnt_month'], inplace=True)\n",
    "validation_set.dropna(subset=['item_cnt_month'], inplace=True)\n",
    "\n",
    "train_set.dropna(inplace=True)\n",
    "validation_set.dropna(inplace=True)\n",
    "\n",
    "print('Registros del conjunto de Entrenamiento:', train_set.shape[0])\n",
    "print('Registros del conjunto de Validación:', validation_set.shape[0])\n",
    "print('Registros del conjunto de Prueba:', test_set.shape[0])\n",
    "\n",
    "print('Registros del conjunto de Entrenamiento: %s (%.f%% de datos completos)' % (train_set.shape[0], ((train_set.shape[0]/train_monthly.shape[0])*100)))\n",
    "print('Registros del conjunto de Validación: %s (%.f%% de datos completos)' % (validation_set.shape[0], ((validation_set.shape[0]/train_monthly.shape[0])*100)))"
   ]
  },
  {
   "cell_type": "markdown",
   "metadata": {
    "_uuid": "60a594cf5659f2d352efdc449a9124d9ad682537"
   },
   "source": [
    "### Codificación de la Media\n",
    "* Después de la división de los conjuntos Train / Validation."
   ]
  },
  {
   "cell_type": "code",
   "execution_count": 36,
   "metadata": {
    "_uuid": "c2865c55c01679d9c8a4a695e0af198a1800db33"
   },
   "outputs": [],
   "source": [
    "# Codificación de la Media por Tienda\n",
    "gp_shop_mean = train_set.groupby(['shop_id']).agg({'item_cnt_month': ['mean']})\n",
    "gp_shop_mean.columns = ['shop_mean']\n",
    "gp_shop_mean.reset_index(inplace=True)\n",
    "\n",
    "# Codificación de la Media por Artículo\n",
    "gp_item_mean = train_set.groupby(['item_id']).agg({'item_cnt_month': ['mean']})\n",
    "gp_item_mean.columns = ['item_mean']\n",
    "gp_item_mean.reset_index(inplace=True)\n",
    "\n",
    "# Codificación de la Media entre Tienda y Artículo\n",
    "gp_shop_item_mean = train_set.groupby(['shop_id', 'item_id']).agg({'item_cnt_month': ['mean']})\n",
    "gp_shop_item_mean.columns = ['shop_item_mean']\n",
    "gp_shop_item_mean.reset_index(inplace=True)\n",
    "\n",
    "# Codificación de la Media del Año\n",
    "gp_year_mean = train_set.groupby(['year']).agg({'item_cnt_month': ['mean']})\n",
    "gp_year_mean.columns = ['year_mean']\n",
    "gp_year_mean.reset_index(inplace=True)\n",
    "\n",
    "# Codificación de la Media del Mes\n",
    "gp_month_mean = train_set.groupby(['month']).agg({'item_cnt_month': ['mean']})\n",
    "gp_month_mean.columns = ['month_mean']\n",
    "gp_month_mean.reset_index(inplace=True)\n",
    "\n",
    "# Se agregan las codificaciones de la media en el set de datos de Entrenamiento\n",
    "train_set = pd.merge(train_set, gp_shop_mean, on=['shop_id'], how='left')\n",
    "train_set = pd.merge(train_set, gp_item_mean, on=['item_id'], how='left')\n",
    "train_set = pd.merge(train_set, gp_shop_item_mean, on=['shop_id', 'item_id'], how='left')\n",
    "train_set = pd.merge(train_set, gp_year_mean, on=['year'], how='left')\n",
    "train_set = pd.merge(train_set, gp_month_mean, on=['month'], how='left')\n",
    "\n",
    "# Se agregan las codificaciones de la media en el set de datos de Validación\n",
    "validation_set = pd.merge(validation_set, gp_shop_mean, on=['shop_id'], how='left')\n",
    "validation_set = pd.merge(validation_set, gp_item_mean, on=['item_id'], how='left')\n",
    "validation_set = pd.merge(validation_set, gp_shop_item_mean, on=['shop_id', 'item_id'], how='left')\n",
    "validation_set = pd.merge(validation_set, gp_year_mean, on=['year'], how='left')\n",
    "validation_set = pd.merge(validation_set, gp_month_mean, on=['month'], how='left')"
   ]
  },
  {
   "cell_type": "code",
   "execution_count": 37,
   "metadata": {
    "_uuid": "7b3118d00fcb8fc2c1030a5ff37d8c201b989545"
   },
   "outputs": [],
   "source": [
    "# Se crea la variable dependiente en los set de datos de Entrenamiento y Validación\n",
    "X_train = train_set.drop(['item_cnt_month', 'date_block_num'], axis=1)\n",
    "Y_train = train_set['item_cnt_month'].astype(int)\n",
    "X_validation = validation_set.drop(['item_cnt_month', 'date_block_num'], axis=1)\n",
    "Y_validation = validation_set['item_cnt_month'].astype(int)"
   ]
  },
  {
   "cell_type": "code",
   "execution_count": 38,
   "metadata": {
    "_uuid": "10a282455b0ba0c601eea05bc90322877a132429"
   },
   "outputs": [],
   "source": [
    "# Parseo de atributos a tipo Numérico\n",
    "int_features = ['shop_id', 'item_id', 'year', 'month']\n",
    "\n",
    "X_train[int_features] = X_train[int_features].astype('int32')\n",
    "X_validation[int_features] = X_validation[int_features].astype('int32')"
   ]
  },
  {
   "cell_type": "markdown",
   "metadata": {
    "_uuid": "c61ed42f58832da6b058b52f27bb329a6b1508a9"
   },
   "source": [
    "### Construcción del Conjunto de Pruebas\n",
    "La idea principal es predecir para \"date_block_num\" = 34, por lo que el conjunto de pruebas será el bloque 33 y las predicciones deben reflejar los valores del bloque 34. En otras palabras, se usará el bloque 33 porque se desea pronosticar valores para el bloque 34."
   ]
  },
  {
   "cell_type": "code",
   "execution_count": 39,
   "metadata": {
    "_uuid": "ea92bf4c0739cb94e6b8b06b6525cab66a47fa6b"
   },
   "outputs": [],
   "source": [
    "latest_records = pd.concat([train_set, validation_set]).drop_duplicates(subset=['shop_id', 'item_id'], keep='last')\n",
    "X_test = pd.merge(test, latest_records, on=['shop_id', 'item_id'], how='left', suffixes=['', '_'])\n",
    "X_test['year'] = 2015\n",
    "X_test['month'] = 9\n",
    "X_test.drop('item_cnt_month', axis=1, inplace=True)\n",
    "X_test[int_features] = X_test[int_features].astype('int32')\n",
    "X_test = X_test[X_train.columns]"
   ]
  },
  {
   "cell_type": "markdown",
   "metadata": {
    "_uuid": "7263b8e69d7f1fe529b89c08a1cb905ed4bbf257"
   },
   "source": [
    "### Se remplazan los valores vacíos"
   ]
  },
  {
   "cell_type": "code",
   "execution_count": 40,
   "metadata": {
    "_kg_hide-input": false,
    "_uuid": "7751f418cefd6a4daf7663ec43b4baadaa3b3905"
   },
   "outputs": [],
   "source": [
    "sets = [X_train, X_validation, X_test]\n",
    "\n",
    "# Remplazando los valores vacíos con el valor medio de cada tienda.            \n",
    "for dataset in sets:\n",
    "    for shop_id in dataset['shop_id'].unique():\n",
    "        for column in dataset.columns:\n",
    "            shop_median = dataset[(dataset['shop_id'] == shop_id)][column].median()\n",
    "            dataset.loc[(dataset[column].isnull()) & (dataset['shop_id'] == shop_id), column] = shop_median\n",
    "            \n",
    "# Remplazando los valores vacíos con el valor medio de cada tienda en el data set de Prueba.   \n",
    "X_test.fillna(X_test.mean(), inplace=True)"
   ]
  },
  {
   "cell_type": "code",
   "execution_count": 41,
   "metadata": {
    "_uuid": "0956e6c1ef3bbb3908d054b7a86b596404e5aa8b"
   },
   "outputs": [],
   "source": [
    "# I'm dropping \"item_category_id\", we don't have it on test set and would be a little hard to create categories for items that exist only on test set.\n",
    "X_train.drop(['item_category_id'], axis=1, inplace=True)\n",
    "X_validation.drop(['item_category_id'], axis=1, inplace=True)\n",
    "X_test.drop(['item_category_id'], axis=1, inplace=True)"
   ]
  },
  {
   "cell_type": "markdown",
   "metadata": {
    "_uuid": "a4179d24399b913be389cd059863dff6fdade5cc"
   },
   "source": [
    "### Conjunto de Pruebas"
   ]
  },
  {
   "cell_type": "code",
   "execution_count": 42,
   "metadata": {
    "_kg_hide-input": true,
    "_uuid": "7cc6b59eb68c97e706c505beb84c1fe291373556"
   },
   "outputs": [
    {
     "data": {
      "text/html": [
       "<div>\n",
       "<style scoped>\n",
       "    .dataframe tbody tr th:only-of-type {\n",
       "        vertical-align: middle;\n",
       "    }\n",
       "\n",
       "    .dataframe tbody tr th {\n",
       "        vertical-align: top;\n",
       "    }\n",
       "\n",
       "    .dataframe thead th {\n",
       "        text-align: right;\n",
       "    }\n",
       "</style>\n",
       "<table border=\"1\" class=\"dataframe\">\n",
       "  <thead>\n",
       "    <tr style=\"text-align: right;\">\n",
       "      <th></th>\n",
       "      <th>0</th>\n",
       "      <th>1</th>\n",
       "      <th>2</th>\n",
       "      <th>3</th>\n",
       "      <th>4</th>\n",
       "    </tr>\n",
       "  </thead>\n",
       "  <tbody>\n",
       "    <tr>\n",
       "      <td>shop_id</td>\n",
       "      <td>5.00</td>\n",
       "      <td>5.00</td>\n",
       "      <td>5.00</td>\n",
       "      <td>5.00</td>\n",
       "      <td>5.00</td>\n",
       "    </tr>\n",
       "    <tr>\n",
       "      <td>item_id</td>\n",
       "      <td>5037.00</td>\n",
       "      <td>5320.00</td>\n",
       "      <td>5233.00</td>\n",
       "      <td>5232.00</td>\n",
       "      <td>5268.00</td>\n",
       "    </tr>\n",
       "    <tr>\n",
       "      <td>item_price</td>\n",
       "      <td>749.50</td>\n",
       "      <td>0.00</td>\n",
       "      <td>2997.00</td>\n",
       "      <td>0.00</td>\n",
       "      <td>0.00</td>\n",
       "    </tr>\n",
       "    <tr>\n",
       "      <td>mean_item_price</td>\n",
       "      <td>749.50</td>\n",
       "      <td>0.00</td>\n",
       "      <td>999.00</td>\n",
       "      <td>0.00</td>\n",
       "      <td>0.00</td>\n",
       "    </tr>\n",
       "    <tr>\n",
       "      <td>item_cnt</td>\n",
       "      <td>1.00</td>\n",
       "      <td>0.00</td>\n",
       "      <td>3.00</td>\n",
       "      <td>0.00</td>\n",
       "      <td>0.00</td>\n",
       "    </tr>\n",
       "    <tr>\n",
       "      <td>mean_item_cnt</td>\n",
       "      <td>1.00</td>\n",
       "      <td>0.00</td>\n",
       "      <td>1.00</td>\n",
       "      <td>0.00</td>\n",
       "      <td>0.00</td>\n",
       "    </tr>\n",
       "    <tr>\n",
       "      <td>transactions</td>\n",
       "      <td>1.00</td>\n",
       "      <td>0.00</td>\n",
       "      <td>3.00</td>\n",
       "      <td>0.00</td>\n",
       "      <td>0.00</td>\n",
       "    </tr>\n",
       "    <tr>\n",
       "      <td>year</td>\n",
       "      <td>2015.00</td>\n",
       "      <td>2015.00</td>\n",
       "      <td>2015.00</td>\n",
       "      <td>2015.00</td>\n",
       "      <td>2015.00</td>\n",
       "    </tr>\n",
       "    <tr>\n",
       "      <td>month</td>\n",
       "      <td>9.00</td>\n",
       "      <td>9.00</td>\n",
       "      <td>9.00</td>\n",
       "      <td>9.00</td>\n",
       "      <td>9.00</td>\n",
       "    </tr>\n",
       "    <tr>\n",
       "      <td>item_price_unit</td>\n",
       "      <td>749.00</td>\n",
       "      <td>0.00</td>\n",
       "      <td>999.00</td>\n",
       "      <td>0.00</td>\n",
       "      <td>0.00</td>\n",
       "    </tr>\n",
       "    <tr>\n",
       "      <td>hist_min_item_price</td>\n",
       "      <td>0.00</td>\n",
       "      <td>0.00</td>\n",
       "      <td>0.00</td>\n",
       "      <td>0.00</td>\n",
       "      <td>0.00</td>\n",
       "    </tr>\n",
       "    <tr>\n",
       "      <td>hist_max_item_price</td>\n",
       "      <td>25990.00</td>\n",
       "      <td>2428.81</td>\n",
       "      <td>7191.75</td>\n",
       "      <td>4796.00</td>\n",
       "      <td>2428.81</td>\n",
       "    </tr>\n",
       "    <tr>\n",
       "      <td>price_increase</td>\n",
       "      <td>749.50</td>\n",
       "      <td>0.00</td>\n",
       "      <td>2997.00</td>\n",
       "      <td>0.00</td>\n",
       "      <td>0.00</td>\n",
       "    </tr>\n",
       "    <tr>\n",
       "      <td>price_decrease</td>\n",
       "      <td>25240.50</td>\n",
       "      <td>2394.00</td>\n",
       "      <td>4194.75</td>\n",
       "      <td>4796.00</td>\n",
       "      <td>2394.00</td>\n",
       "    </tr>\n",
       "    <tr>\n",
       "      <td>item_cnt_min</td>\n",
       "      <td>1.00</td>\n",
       "      <td>0.00</td>\n",
       "      <td>1.00</td>\n",
       "      <td>0.00</td>\n",
       "      <td>0.00</td>\n",
       "    </tr>\n",
       "    <tr>\n",
       "      <td>item_cnt_max</td>\n",
       "      <td>3.00</td>\n",
       "      <td>0.00</td>\n",
       "      <td>3.00</td>\n",
       "      <td>0.00</td>\n",
       "      <td>0.00</td>\n",
       "    </tr>\n",
       "    <tr>\n",
       "      <td>item_cnt_mean</td>\n",
       "      <td>1.67</td>\n",
       "      <td>0.00</td>\n",
       "      <td>2.00</td>\n",
       "      <td>0.00</td>\n",
       "      <td>0.00</td>\n",
       "    </tr>\n",
       "    <tr>\n",
       "      <td>item_cnt_std</td>\n",
       "      <td>1.15</td>\n",
       "      <td>0.00</td>\n",
       "      <td>1.00</td>\n",
       "      <td>0.00</td>\n",
       "      <td>0.00</td>\n",
       "    </tr>\n",
       "    <tr>\n",
       "      <td>item_cnt_shifted1</td>\n",
       "      <td>3.00</td>\n",
       "      <td>0.00</td>\n",
       "      <td>1.00</td>\n",
       "      <td>0.00</td>\n",
       "      <td>0.00</td>\n",
       "    </tr>\n",
       "    <tr>\n",
       "      <td>item_cnt_shifted2</td>\n",
       "      <td>1.00</td>\n",
       "      <td>0.00</td>\n",
       "      <td>2.00</td>\n",
       "      <td>0.00</td>\n",
       "      <td>0.00</td>\n",
       "    </tr>\n",
       "    <tr>\n",
       "      <td>item_cnt_shifted3</td>\n",
       "      <td>1.00</td>\n",
       "      <td>0.00</td>\n",
       "      <td>3.00</td>\n",
       "      <td>0.00</td>\n",
       "      <td>0.00</td>\n",
       "    </tr>\n",
       "    <tr>\n",
       "      <td>item_trend</td>\n",
       "      <td>-1.00</td>\n",
       "      <td>0.00</td>\n",
       "      <td>-0.75</td>\n",
       "      <td>0.00</td>\n",
       "      <td>0.00</td>\n",
       "    </tr>\n",
       "    <tr>\n",
       "      <td>shop_mean</td>\n",
       "      <td>0.13</td>\n",
       "      <td>0.13</td>\n",
       "      <td>0.13</td>\n",
       "      <td>0.13</td>\n",
       "      <td>0.13</td>\n",
       "    </tr>\n",
       "    <tr>\n",
       "      <td>item_mean</td>\n",
       "      <td>0.70</td>\n",
       "      <td>0.05</td>\n",
       "      <td>0.07</td>\n",
       "      <td>0.00</td>\n",
       "      <td>0.05</td>\n",
       "    </tr>\n",
       "    <tr>\n",
       "      <td>shop_item_mean</td>\n",
       "      <td>0.28</td>\n",
       "      <td>0.00</td>\n",
       "      <td>0.12</td>\n",
       "      <td>0.00</td>\n",
       "      <td>0.00</td>\n",
       "    </tr>\n",
       "    <tr>\n",
       "      <td>year_mean</td>\n",
       "      <td>0.22</td>\n",
       "      <td>0.22</td>\n",
       "      <td>0.22</td>\n",
       "      <td>0.22</td>\n",
       "      <td>0.22</td>\n",
       "    </tr>\n",
       "    <tr>\n",
       "      <td>month_mean</td>\n",
       "      <td>0.17</td>\n",
       "      <td>0.17</td>\n",
       "      <td>0.17</td>\n",
       "      <td>0.17</td>\n",
       "      <td>0.17</td>\n",
       "    </tr>\n",
       "  </tbody>\n",
       "</table>\n",
       "</div>"
      ],
      "text/plain": [
       "                           0       1       2       3       4\n",
       "shop_id                 5.00    5.00    5.00    5.00    5.00\n",
       "item_id              5037.00 5320.00 5233.00 5232.00 5268.00\n",
       "item_price            749.50    0.00 2997.00    0.00    0.00\n",
       "mean_item_price       749.50    0.00  999.00    0.00    0.00\n",
       "item_cnt                1.00    0.00    3.00    0.00    0.00\n",
       "mean_item_cnt           1.00    0.00    1.00    0.00    0.00\n",
       "transactions            1.00    0.00    3.00    0.00    0.00\n",
       "year                 2015.00 2015.00 2015.00 2015.00 2015.00\n",
       "month                   9.00    9.00    9.00    9.00    9.00\n",
       "item_price_unit       749.00    0.00  999.00    0.00    0.00\n",
       "hist_min_item_price     0.00    0.00    0.00    0.00    0.00\n",
       "hist_max_item_price 25990.00 2428.81 7191.75 4796.00 2428.81\n",
       "price_increase        749.50    0.00 2997.00    0.00    0.00\n",
       "price_decrease      25240.50 2394.00 4194.75 4796.00 2394.00\n",
       "item_cnt_min            1.00    0.00    1.00    0.00    0.00\n",
       "item_cnt_max            3.00    0.00    3.00    0.00    0.00\n",
       "item_cnt_mean           1.67    0.00    2.00    0.00    0.00\n",
       "item_cnt_std            1.15    0.00    1.00    0.00    0.00\n",
       "item_cnt_shifted1       3.00    0.00    1.00    0.00    0.00\n",
       "item_cnt_shifted2       1.00    0.00    2.00    0.00    0.00\n",
       "item_cnt_shifted3       1.00    0.00    3.00    0.00    0.00\n",
       "item_trend             -1.00    0.00   -0.75    0.00    0.00\n",
       "shop_mean               0.13    0.13    0.13    0.13    0.13\n",
       "item_mean               0.70    0.05    0.07    0.00    0.05\n",
       "shop_item_mean          0.28    0.00    0.12    0.00    0.00\n",
       "year_mean               0.22    0.22    0.22    0.22    0.22\n",
       "month_mean              0.17    0.17    0.17    0.17    0.17"
      ]
     },
     "execution_count": 42,
     "metadata": {},
     "output_type": "execute_result"
    }
   ],
   "source": [
    "X_test.head().T"
   ]
  },
  {
   "cell_type": "code",
   "execution_count": 43,
   "metadata": {
    "_kg_hide-input": true,
    "_uuid": "1fdbbe2bedefb57812e98777717026b1f89ad87f",
    "scrolled": true
   },
   "outputs": [
    {
     "data": {
      "text/html": [
       "<div>\n",
       "<style scoped>\n",
       "    .dataframe tbody tr th:only-of-type {\n",
       "        vertical-align: middle;\n",
       "    }\n",
       "\n",
       "    .dataframe tbody tr th {\n",
       "        vertical-align: top;\n",
       "    }\n",
       "\n",
       "    .dataframe thead th {\n",
       "        text-align: right;\n",
       "    }\n",
       "</style>\n",
       "<table border=\"1\" class=\"dataframe\">\n",
       "  <thead>\n",
       "    <tr style=\"text-align: right;\">\n",
       "      <th></th>\n",
       "      <th>count</th>\n",
       "      <th>mean</th>\n",
       "      <th>std</th>\n",
       "      <th>min</th>\n",
       "      <th>25%</th>\n",
       "      <th>50%</th>\n",
       "      <th>75%</th>\n",
       "      <th>max</th>\n",
       "    </tr>\n",
       "  </thead>\n",
       "  <tbody>\n",
       "    <tr>\n",
       "      <td>shop_id</td>\n",
       "      <td>214200.00</td>\n",
       "      <td>31.64</td>\n",
       "      <td>17.56</td>\n",
       "      <td>2.00</td>\n",
       "      <td>16.00</td>\n",
       "      <td>34.50</td>\n",
       "      <td>47.00</td>\n",
       "      <td>59.00</td>\n",
       "    </tr>\n",
       "    <tr>\n",
       "      <td>item_id</td>\n",
       "      <td>214200.00</td>\n",
       "      <td>11019.40</td>\n",
       "      <td>6252.64</td>\n",
       "      <td>30.00</td>\n",
       "      <td>5381.50</td>\n",
       "      <td>11203.00</td>\n",
       "      <td>16071.50</td>\n",
       "      <td>22167.00</td>\n",
       "    </tr>\n",
       "    <tr>\n",
       "      <td>item_price</td>\n",
       "      <td>214200.00</td>\n",
       "      <td>239.98</td>\n",
       "      <td>1854.07</td>\n",
       "      <td>0.00</td>\n",
       "      <td>0.00</td>\n",
       "      <td>0.00</td>\n",
       "      <td>0.00</td>\n",
       "      <td>166944.50</td>\n",
       "    </tr>\n",
       "    <tr>\n",
       "      <td>mean_item_price</td>\n",
       "      <td>214200.00</td>\n",
       "      <td>133.82</td>\n",
       "      <td>865.39</td>\n",
       "      <td>0.00</td>\n",
       "      <td>0.00</td>\n",
       "      <td>0.00</td>\n",
       "      <td>0.00</td>\n",
       "      <td>32990.00</td>\n",
       "    </tr>\n",
       "    <tr>\n",
       "      <td>item_cnt</td>\n",
       "      <td>214200.00</td>\n",
       "      <td>0.23</td>\n",
       "      <td>0.95</td>\n",
       "      <td>0.00</td>\n",
       "      <td>0.00</td>\n",
       "      <td>0.00</td>\n",
       "      <td>0.00</td>\n",
       "      <td>20.00</td>\n",
       "    </tr>\n",
       "    <tr>\n",
       "      <td>mean_item_cnt</td>\n",
       "      <td>214200.00</td>\n",
       "      <td>0.13</td>\n",
       "      <td>0.37</td>\n",
       "      <td>0.00</td>\n",
       "      <td>0.00</td>\n",
       "      <td>0.00</td>\n",
       "      <td>0.00</td>\n",
       "      <td>10.00</td>\n",
       "    </tr>\n",
       "    <tr>\n",
       "      <td>transactions</td>\n",
       "      <td>214200.00</td>\n",
       "      <td>0.20</td>\n",
       "      <td>0.73</td>\n",
       "      <td>0.00</td>\n",
       "      <td>0.00</td>\n",
       "      <td>0.00</td>\n",
       "      <td>0.00</td>\n",
       "      <td>15.00</td>\n",
       "    </tr>\n",
       "    <tr>\n",
       "      <td>year</td>\n",
       "      <td>214200.00</td>\n",
       "      <td>2015.00</td>\n",
       "      <td>0.00</td>\n",
       "      <td>2015.00</td>\n",
       "      <td>2015.00</td>\n",
       "      <td>2015.00</td>\n",
       "      <td>2015.00</td>\n",
       "      <td>2015.00</td>\n",
       "    </tr>\n",
       "    <tr>\n",
       "      <td>month</td>\n",
       "      <td>214200.00</td>\n",
       "      <td>9.00</td>\n",
       "      <td>0.00</td>\n",
       "      <td>9.00</td>\n",
       "      <td>9.00</td>\n",
       "      <td>9.00</td>\n",
       "      <td>9.00</td>\n",
       "      <td>9.00</td>\n",
       "    </tr>\n",
       "    <tr>\n",
       "      <td>item_price_unit</td>\n",
       "      <td>214200.00</td>\n",
       "      <td>inf</td>\n",
       "      <td>nan</td>\n",
       "      <td>0.00</td>\n",
       "      <td>0.00</td>\n",
       "      <td>0.00</td>\n",
       "      <td>0.00</td>\n",
       "      <td>inf</td>\n",
       "    </tr>\n",
       "    <tr>\n",
       "      <td>hist_min_item_price</td>\n",
       "      <td>214200.00</td>\n",
       "      <td>0.00</td>\n",
       "      <td>0.00</td>\n",
       "      <td>0.00</td>\n",
       "      <td>0.00</td>\n",
       "      <td>0.00</td>\n",
       "      <td>0.00</td>\n",
       "      <td>0.00</td>\n",
       "    </tr>\n",
       "    <tr>\n",
       "      <td>hist_max_item_price</td>\n",
       "      <td>214200.00</td>\n",
       "      <td>5396.09</td>\n",
       "      <td>11363.71</td>\n",
       "      <td>0.00</td>\n",
       "      <td>1194.00</td>\n",
       "      <td>2428.81</td>\n",
       "      <td>5196.00</td>\n",
       "      <td>366860.00</td>\n",
       "    </tr>\n",
       "    <tr>\n",
       "      <td>price_increase</td>\n",
       "      <td>214200.00</td>\n",
       "      <td>239.98</td>\n",
       "      <td>1854.07</td>\n",
       "      <td>0.00</td>\n",
       "      <td>0.00</td>\n",
       "      <td>0.00</td>\n",
       "      <td>0.00</td>\n",
       "      <td>166944.50</td>\n",
       "    </tr>\n",
       "    <tr>\n",
       "      <td>price_decrease</td>\n",
       "      <td>214200.00</td>\n",
       "      <td>5150.72</td>\n",
       "      <td>10778.06</td>\n",
       "      <td>0.00</td>\n",
       "      <td>1098.00</td>\n",
       "      <td>2394.00</td>\n",
       "      <td>5063.00</td>\n",
       "      <td>366860.00</td>\n",
       "    </tr>\n",
       "    <tr>\n",
       "      <td>item_cnt_min</td>\n",
       "      <td>214200.00</td>\n",
       "      <td>0.18</td>\n",
       "      <td>0.74</td>\n",
       "      <td>0.00</td>\n",
       "      <td>0.00</td>\n",
       "      <td>0.00</td>\n",
       "      <td>0.00</td>\n",
       "      <td>20.00</td>\n",
       "    </tr>\n",
       "    <tr>\n",
       "      <td>item_cnt_max</td>\n",
       "      <td>214200.00</td>\n",
       "      <td>0.33</td>\n",
       "      <td>1.27</td>\n",
       "      <td>0.00</td>\n",
       "      <td>0.00</td>\n",
       "      <td>0.00</td>\n",
       "      <td>0.00</td>\n",
       "      <td>20.00</td>\n",
       "    </tr>\n",
       "    <tr>\n",
       "      <td>item_cnt_mean</td>\n",
       "      <td>214200.00</td>\n",
       "      <td>0.25</td>\n",
       "      <td>0.95</td>\n",
       "      <td>0.00</td>\n",
       "      <td>0.00</td>\n",
       "      <td>0.00</td>\n",
       "      <td>0.00</td>\n",
       "      <td>20.00</td>\n",
       "    </tr>\n",
       "    <tr>\n",
       "      <td>item_cnt_std</td>\n",
       "      <td>214200.00</td>\n",
       "      <td>0.08</td>\n",
       "      <td>0.43</td>\n",
       "      <td>0.00</td>\n",
       "      <td>0.00</td>\n",
       "      <td>0.00</td>\n",
       "      <td>0.00</td>\n",
       "      <td>12.02</td>\n",
       "    </tr>\n",
       "    <tr>\n",
       "      <td>item_cnt_shifted1</td>\n",
       "      <td>214200.00</td>\n",
       "      <td>0.21</td>\n",
       "      <td>0.91</td>\n",
       "      <td>0.00</td>\n",
       "      <td>0.00</td>\n",
       "      <td>0.00</td>\n",
       "      <td>0.00</td>\n",
       "      <td>20.00</td>\n",
       "    </tr>\n",
       "    <tr>\n",
       "      <td>item_cnt_shifted2</td>\n",
       "      <td>214200.00</td>\n",
       "      <td>0.18</td>\n",
       "      <td>0.83</td>\n",
       "      <td>0.00</td>\n",
       "      <td>0.00</td>\n",
       "      <td>0.00</td>\n",
       "      <td>0.00</td>\n",
       "      <td>20.00</td>\n",
       "    </tr>\n",
       "    <tr>\n",
       "      <td>item_cnt_shifted3</td>\n",
       "      <td>214200.00</td>\n",
       "      <td>0.17</td>\n",
       "      <td>0.85</td>\n",
       "      <td>0.00</td>\n",
       "      <td>0.00</td>\n",
       "      <td>0.00</td>\n",
       "      <td>0.00</td>\n",
       "      <td>20.00</td>\n",
       "    </tr>\n",
       "    <tr>\n",
       "      <td>item_trend</td>\n",
       "      <td>214200.00</td>\n",
       "      <td>-0.08</td>\n",
       "      <td>0.46</td>\n",
       "      <td>-11.00</td>\n",
       "      <td>0.00</td>\n",
       "      <td>0.00</td>\n",
       "      <td>0.00</td>\n",
       "      <td>5.00</td>\n",
       "    </tr>\n",
       "    <tr>\n",
       "      <td>shop_mean</td>\n",
       "      <td>214200.00</td>\n",
       "      <td>0.19</td>\n",
       "      <td>0.13</td>\n",
       "      <td>0.00</td>\n",
       "      <td>0.12</td>\n",
       "      <td>0.17</td>\n",
       "      <td>0.20</td>\n",
       "      <td>0.68</td>\n",
       "    </tr>\n",
       "    <tr>\n",
       "      <td>item_mean</td>\n",
       "      <td>214200.00</td>\n",
       "      <td>0.18</td>\n",
       "      <td>0.41</td>\n",
       "      <td>0.00</td>\n",
       "      <td>0.01</td>\n",
       "      <td>0.05</td>\n",
       "      <td>0.18</td>\n",
       "      <td>6.97</td>\n",
       "    </tr>\n",
       "    <tr>\n",
       "      <td>shop_item_mean</td>\n",
       "      <td>214200.00</td>\n",
       "      <td>0.18</td>\n",
       "      <td>0.56</td>\n",
       "      <td>0.00</td>\n",
       "      <td>0.00</td>\n",
       "      <td>0.00</td>\n",
       "      <td>0.12</td>\n",
       "      <td>20.00</td>\n",
       "    </tr>\n",
       "    <tr>\n",
       "      <td>year_mean</td>\n",
       "      <td>214200.00</td>\n",
       "      <td>0.22</td>\n",
       "      <td>0.00</td>\n",
       "      <td>0.14</td>\n",
       "      <td>0.22</td>\n",
       "      <td>0.22</td>\n",
       "      <td>0.22</td>\n",
       "      <td>0.22</td>\n",
       "    </tr>\n",
       "    <tr>\n",
       "      <td>month_mean</td>\n",
       "      <td>214200.00</td>\n",
       "      <td>0.17</td>\n",
       "      <td>0.00</td>\n",
       "      <td>0.14</td>\n",
       "      <td>0.17</td>\n",
       "      <td>0.17</td>\n",
       "      <td>0.17</td>\n",
       "      <td>0.21</td>\n",
       "    </tr>\n",
       "  </tbody>\n",
       "</table>\n",
       "</div>"
      ],
      "text/plain": [
       "                        count     mean      std     min     25%      50%  \\\n",
       "shop_id             214200.00    31.64    17.56    2.00   16.00    34.50   \n",
       "item_id             214200.00 11019.40  6252.64   30.00 5381.50 11203.00   \n",
       "item_price          214200.00   239.98  1854.07    0.00    0.00     0.00   \n",
       "mean_item_price     214200.00   133.82   865.39    0.00    0.00     0.00   \n",
       "item_cnt            214200.00     0.23     0.95    0.00    0.00     0.00   \n",
       "mean_item_cnt       214200.00     0.13     0.37    0.00    0.00     0.00   \n",
       "transactions        214200.00     0.20     0.73    0.00    0.00     0.00   \n",
       "year                214200.00  2015.00     0.00 2015.00 2015.00  2015.00   \n",
       "month               214200.00     9.00     0.00    9.00    9.00     9.00   \n",
       "item_price_unit     214200.00      inf      nan    0.00    0.00     0.00   \n",
       "hist_min_item_price 214200.00     0.00     0.00    0.00    0.00     0.00   \n",
       "hist_max_item_price 214200.00  5396.09 11363.71    0.00 1194.00  2428.81   \n",
       "price_increase      214200.00   239.98  1854.07    0.00    0.00     0.00   \n",
       "price_decrease      214200.00  5150.72 10778.06    0.00 1098.00  2394.00   \n",
       "item_cnt_min        214200.00     0.18     0.74    0.00    0.00     0.00   \n",
       "item_cnt_max        214200.00     0.33     1.27    0.00    0.00     0.00   \n",
       "item_cnt_mean       214200.00     0.25     0.95    0.00    0.00     0.00   \n",
       "item_cnt_std        214200.00     0.08     0.43    0.00    0.00     0.00   \n",
       "item_cnt_shifted1   214200.00     0.21     0.91    0.00    0.00     0.00   \n",
       "item_cnt_shifted2   214200.00     0.18     0.83    0.00    0.00     0.00   \n",
       "item_cnt_shifted3   214200.00     0.17     0.85    0.00    0.00     0.00   \n",
       "item_trend          214200.00    -0.08     0.46  -11.00    0.00     0.00   \n",
       "shop_mean           214200.00     0.19     0.13    0.00    0.12     0.17   \n",
       "item_mean           214200.00     0.18     0.41    0.00    0.01     0.05   \n",
       "shop_item_mean      214200.00     0.18     0.56    0.00    0.00     0.00   \n",
       "year_mean           214200.00     0.22     0.00    0.14    0.22     0.22   \n",
       "month_mean          214200.00     0.17     0.00    0.14    0.17     0.17   \n",
       "\n",
       "                         75%       max  \n",
       "shop_id                47.00     59.00  \n",
       "item_id             16071.50  22167.00  \n",
       "item_price              0.00 166944.50  \n",
       "mean_item_price         0.00  32990.00  \n",
       "item_cnt                0.00     20.00  \n",
       "mean_item_cnt           0.00     10.00  \n",
       "transactions            0.00     15.00  \n",
       "year                 2015.00   2015.00  \n",
       "month                   9.00      9.00  \n",
       "item_price_unit         0.00       inf  \n",
       "hist_min_item_price     0.00      0.00  \n",
       "hist_max_item_price  5196.00 366860.00  \n",
       "price_increase          0.00 166944.50  \n",
       "price_decrease       5063.00 366860.00  \n",
       "item_cnt_min            0.00     20.00  \n",
       "item_cnt_max            0.00     20.00  \n",
       "item_cnt_mean           0.00     20.00  \n",
       "item_cnt_std            0.00     12.02  \n",
       "item_cnt_shifted1       0.00     20.00  \n",
       "item_cnt_shifted2       0.00     20.00  \n",
       "item_cnt_shifted3       0.00     20.00  \n",
       "item_trend              0.00      5.00  \n",
       "shop_mean               0.20      0.68  \n",
       "item_mean               0.18      6.97  \n",
       "shop_item_mean          0.12     20.00  \n",
       "year_mean               0.22      0.22  \n",
       "month_mean              0.17      0.21  "
      ]
     },
     "execution_count": 43,
     "metadata": {},
     "output_type": "execute_result"
    }
   ],
   "source": [
    "X_test.describe().T"
   ]
  },
  {
   "cell_type": "markdown",
   "metadata": {
    "_uuid": "ff43ed998eb859284670c8500ff854cde5303f9c"
   },
   "source": [
    "### Modelado de la Información\n",
    "\n",
    "#### Función de graficación"
   ]
  },
  {
   "cell_type": "code",
   "execution_count": 44,
   "metadata": {},
   "outputs": [],
   "source": [
    "def model_performance_sc_plot(predictions, labels, title):\n",
    "    # Get min and max values of the predictions and labels.\n",
    "    min_val = max(max(predictions), max(labels))\n",
    "    max_val = min(min(predictions), min(labels))\n",
    "    # Create dataframe with predicitons and labels.\n",
    "    performance_df = pd.DataFrame({\"Label\":labels})\n",
    "    performance_df[\"Prediction\"] = predictions\n",
    "    # Plot data\n",
    "    sns.jointplot(y=\"Label\", x=\"Prediction\", data=performance_df, kind=\"reg\", height=7)\n",
    "    plt.plot([min_val, max_val], [min_val, max_val], 'm--')\n",
    "    plt.title(title, fontsize=9)\n",
    "    plt.show()"
   ]
  },
  {
   "cell_type": "markdown",
   "metadata": {},
   "source": [
    "\n",
    "## Modelo basado en Árboles\n",
    "\n",
    "### Random forest"
   ]
  },
  {
   "cell_type": "code",
   "execution_count": 45,
   "metadata": {
    "_uuid": "d2adddbafbb172a9c4e3e504e862f6df59a1fd93"
   },
   "outputs": [],
   "source": [
    "# Se usa únicamente las características importantes para random forest.\n",
    "rf_features = ['shop_id', 'item_id', 'item_cnt', 'transactions', 'year',\n",
    "               'item_cnt_mean', 'item_cnt_std', 'item_cnt_shifted1', \n",
    "               'shop_mean', 'item_mean', 'item_trend', 'mean_item_cnt']\n",
    "rf_train = X_train[rf_features]\n",
    "rf_val = X_validation[rf_features]\n",
    "rf_test = X_test[rf_features]"
   ]
  },
  {
   "cell_type": "code",
   "execution_count": 46,
   "metadata": {
    "_uuid": "fb01123397fbd2cfd4ac3e0eefac456063b38810"
   },
   "outputs": [
    {
     "data": {
      "text/plain": [
       "RandomForestRegressor(bootstrap=True, criterion='mse', max_depth=7,\n",
       "                      max_features='auto', max_leaf_nodes=None,\n",
       "                      min_impurity_decrease=0.0, min_impurity_split=None,\n",
       "                      min_samples_leaf=1, min_samples_split=2,\n",
       "                      min_weight_fraction_leaf=0.0, n_estimators=50, n_jobs=-1,\n",
       "                      oob_score=False, random_state=0, verbose=0,\n",
       "                      warm_start=False)"
      ]
     },
     "execution_count": 46,
     "metadata": {},
     "output_type": "execute_result"
    }
   ],
   "source": [
    "rf_model = RandomForestRegressor(n_estimators=50, max_depth=7, random_state=0, n_jobs=-1)\n",
    "rf_model.fit(rf_train, Y_train)"
   ]
  },
  {
   "cell_type": "code",
   "execution_count": 47,
   "metadata": {
    "_kg_hide-input": false,
    "_uuid": "1f58257f9673ec2221ca500bf7677e81cc0337ec"
   },
   "outputs": [],
   "source": [
    "rf_train_pred = rf_model.predict(rf_train)\n",
    "rf_val_pred = rf_model.predict(rf_val)\n",
    "rf_test_pred = rf_model.predict(rf_test)"
   ]
  },
  {
   "cell_type": "code",
   "execution_count": 48,
   "metadata": {
    "_kg_hide-input": true,
    "_uuid": "f3962fc67733732b2ce1ddfc78ee528c8c76f63f"
   },
   "outputs": [
    {
     "name": "stdout",
     "output_type": "stream",
     "text": [
      "Train rmse: 0.6987440500897693\n",
      "Validation rmse: 0.7756929399144616\n"
     ]
    }
   ],
   "source": [
    "print('Train rmse:', np.sqrt(mean_squared_error(Y_train, rf_train_pred)))\n",
    "print('Validation rmse:', np.sqrt(mean_squared_error(Y_validation, rf_val_pred)))"
   ]
  },
  {
   "cell_type": "markdown",
   "metadata": {
    "_uuid": "e0ee13b99ee51d57d58bb34936ddbee90e36b86f"
   },
   "source": [
    "### Desempeño de Random Forest con la gráfica de \"Prediction x Label\""
   ]
  },
  {
   "cell_type": "code",
   "execution_count": 49,
   "metadata": {
    "_kg_hide-input": true,
    "_uuid": "c67466fda631c9ec6764cd453bd571dd290255cb"
   },
   "outputs": [
    {
     "data": {
      "image/png": "[encoded data removed]",
      "text/plain": [
       "<Figure size 504x504 with 3 Axes>"
      ]
     },
     "metadata": {
      "needs_background": "light"
     },
     "output_type": "display_data"
    }
   ],
   "source": [
    "# model_performance_sc_plot(rf_train_pred, Y_train, 'Train')\n",
    "model_performance_sc_plot(rf_val_pred, Y_validation, 'Validation')"
   ]
  },
  {
   "cell_type": "markdown",
   "metadata": {
    "_uuid": "fd12c4d9fc1957ba004cf25b49a17544f6d16a55"
   },
   "source": [
    "## Modelo basado en Lineal\n",
    "\n",
    "### Linear Regression"
   ]
  },
  {
   "cell_type": "code",
   "execution_count": 50,
   "metadata": {
    "_uuid": "5ab33ceacdbec93d83e8d943703eaae913fc903b"
   },
   "outputs": [],
   "source": [
    "# Se usa únicamente las características importantes para linear Regression\n",
    "lr_features = ['item_cnt', 'item_cnt_shifted1', 'item_trend', 'mean_item_cnt', 'shop_mean']\n",
    "lr_train = X_train[lr_features]\n",
    "lr_val = X_validation[lr_features]\n",
    "lr_test = X_test[lr_features]"
   ]
  },
  {
   "cell_type": "markdown",
   "metadata": {
    "_uuid": "a3b9c9a48b0f43d91e157ec8b74d2df76d8ea147"
   },
   "source": [
    "#### Normalización de características"
   ]
  },
  {
   "cell_type": "code",
   "execution_count": 51,
   "metadata": {
    "_uuid": "740e5d29b5b95efc5dccfd23583f1bf619511baf"
   },
   "outputs": [],
   "source": [
    "lr_scaler = MinMaxScaler()\n",
    "lr_scaler.fit(lr_train)\n",
    "lr_train = lr_scaler.transform(lr_train)\n",
    "lr_val = lr_scaler.transform(lr_val)\n",
    "lr_test = lr_scaler.transform(lr_test)"
   ]
  },
  {
   "cell_type": "code",
   "execution_count": 52,
   "metadata": {
    "_uuid": "76fdad787667e8cb2390037ee4de0b797edd6b71"
   },
   "outputs": [
    {
     "data": {
      "text/plain": [
       "LinearRegression(copy_X=True, fit_intercept=True, n_jobs=-1, normalize=False)"
      ]
     },
     "execution_count": 52,
     "metadata": {},
     "output_type": "execute_result"
    }
   ],
   "source": [
    "lr_model = LinearRegression(n_jobs=-1)\n",
    "lr_model.fit(lr_train, Y_train)"
   ]
  },
  {
   "cell_type": "code",
   "execution_count": 53,
   "metadata": {
    "_uuid": "e7d590deb7cce90bda5b917ceb5c51837010c7e6"
   },
   "outputs": [],
   "source": [
    "lr_train_pred = lr_model.predict(lr_train)\n",
    "lr_val_pred = lr_model.predict(lr_val)\n",
    "lr_test_pred = lr_model.predict(lr_test)"
   ]
  },
  {
   "cell_type": "code",
   "execution_count": 54,
   "metadata": {
    "_kg_hide-input": true,
    "_uuid": "20a41af682fab380653753f1599b409eba76b1d7"
   },
   "outputs": [
    {
     "name": "stdout",
     "output_type": "stream",
     "text": [
      "Train rmse: 0.7347132326333325\n",
      "Validation rmse: 0.7755311093538375\n"
     ]
    }
   ],
   "source": [
    "print('Train rmse:', np.sqrt(mean_squared_error(Y_train, lr_train_pred)))\n",
    "print('Validation rmse:', np.sqrt(mean_squared_error(Y_validation, lr_val_pred)))"
   ]
  },
  {
   "cell_type": "markdown",
   "metadata": {
    "_uuid": "f15a915bb673c8529d45e8a1a8561b78f353f068"
   },
   "source": [
    "### Desempeño de Linear Regression con la gráfica de \"Prediction x Label\""
   ]
  },
  {
   "cell_type": "code",
   "execution_count": 55,
   "metadata": {
    "_kg_hide-input": true,
    "_uuid": "b0f4d203fb3024af2de7f6c0f9c8daec7f519ee9"
   },
   "outputs": [
    {
     "data": {
      "image/png": "[encoded data removed]",
      "text/plain": [
       "<Figure size 504x504 with 3 Axes>"
      ]
     },
     "metadata": {
      "needs_background": "light"
     },
     "output_type": "display_data"
    }
   ],
   "source": [
    "# model_performance_sc_plot(lr_train_pred, Y_train, 'Train')\n",
    "model_performance_sc_plot(lr_val_pred, Y_validation, 'Validation')"
   ]
  },
  {
   "cell_type": "markdown",
   "metadata": {
    "_uuid": "199d781d9fe50bdee22d9a0f7e015c478ad304a1"
   },
   "source": [
    "## Modelo basado en Clustering\n",
    "\n",
    "### KNN Regressor"
   ]
  },
  {
   "cell_type": "code",
   "execution_count": 56,
   "metadata": {
    "_uuid": "eacbbf35dcf870dd40971313f6679fca47be779e"
   },
   "outputs": [],
   "source": [
    "# Se usa únicamente las características importantes para KNN\n",
    "knn_features = ['item_cnt', 'item_cnt_mean', 'item_cnt_std', 'item_cnt_shifted1',\n",
    "                'item_cnt_shifted2', 'shop_mean', 'shop_item_mean', \n",
    "                'item_trend', 'mean_item_cnt']\n",
    "\n",
    "# Conjunto de Train de submuestra (si se usa todos los datos, esto tomará demasiado tiempo).\n",
    "X_train_sampled = X_train[:100000]\n",
    "Y_train_sampled = Y_train[:100000]\n",
    "\n",
    "knn_train = X_train_sampled[knn_features]\n",
    "knn_val = X_validation[knn_features]\n",
    "knn_test = X_test[knn_features]"
   ]
  },
  {
   "cell_type": "markdown",
   "metadata": {
    "_uuid": "1433659573f24e38c8cf9458a9a9776d65af9889"
   },
   "source": [
    "#### Normalizing features"
   ]
  },
  {
   "cell_type": "code",
   "execution_count": 57,
   "metadata": {
    "_uuid": "ceaccd5a99ffea219b457161b9969a92e2246dcf"
   },
   "outputs": [],
   "source": [
    "knn_scaler = MinMaxScaler()\n",
    "knn_scaler.fit(knn_train)\n",
    "knn_train = knn_scaler.transform(knn_train)\n",
    "knn_val = knn_scaler.transform(knn_val)\n",
    "knn_test = knn_scaler.transform(knn_test)"
   ]
  },
  {
   "cell_type": "code",
   "execution_count": 58,
   "metadata": {
    "_uuid": "1fab3dd11e5f5524105d3fc10833c54bff4337f8"
   },
   "outputs": [
    {
     "data": {
      "text/plain": [
       "KNeighborsRegressor(algorithm='auto', leaf_size=13, metric='minkowski',\n",
       "                    metric_params=None, n_jobs=-1, n_neighbors=9, p=2,\n",
       "                    weights='uniform')"
      ]
     },
     "execution_count": 58,
     "metadata": {},
     "output_type": "execute_result"
    }
   ],
   "source": [
    "knn_model = KNeighborsRegressor(n_neighbors=9, leaf_size=13, n_jobs=-1)\n",
    "knn_model.fit(knn_train, Y_train_sampled)"
   ]
  },
  {
   "cell_type": "code",
   "execution_count": 59,
   "metadata": {
    "_uuid": "1124addcec6c40076ff7056f3f29b7749761d52e"
   },
   "outputs": [],
   "source": [
    "knn_train_pred = knn_model.predict(knn_train)\n",
    "knn_val_pred = knn_model.predict(knn_val)\n",
    "knn_test_pred = knn_model.predict(knn_test)"
   ]
  },
  {
   "cell_type": "code",
   "execution_count": 60,
   "metadata": {
    "_kg_hide-input": true,
    "_uuid": "a658907c91ee956e1da7feb3c92d81664720b5bd"
   },
   "outputs": [
    {
     "name": "stdout",
     "output_type": "stream",
     "text": [
      "Train rmse: 0.48745547438322284\n",
      "Validation rmse: 0.8004038971898291\n"
     ]
    }
   ],
   "source": [
    "print('Train rmse:', np.sqrt(mean_squared_error(Y_train_sampled, knn_train_pred)))\n",
    "print('Validation rmse:', np.sqrt(mean_squared_error(Y_validation, knn_val_pred)))"
   ]
  },
  {
   "cell_type": "markdown",
   "metadata": {
    "_uuid": "adf2895497d36eb4afe59df769510e9e265c2b9e"
   },
   "source": [
    "### Desempeño de K-NN con la gráfica de \"Prediction x Label\""
   ]
  },
  {
   "cell_type": "code",
   "execution_count": 61,
   "metadata": {
    "_kg_hide-input": true,
    "_uuid": "e2b76e52edbd2af4fe2b53e7d9851bfac24c3c69"
   },
   "outputs": [
    {
     "data": {
      "image/png": "[encoded data removed]",
      "text/plain": [
       "<Figure size 504x504 with 3 Axes>"
      ]
     },
     "metadata": {
      "needs_background": "light"
     },
     "output_type": "display_data"
    }
   ],
   "source": [
    "# model_performance_sc_plot(knn_train_pred, Y_train_sampled, 'Train')\n",
    "model_performance_sc_plot(knn_val_pred, Y_validation, 'Validation')"
   ]
  },
  {
   "cell_type": "markdown",
   "metadata": {
    "_uuid": "b62f362b68c250eaa9aa6ba406c282ff577f9648"
   },
   "source": [
    "### Creación de nuevos conjuntos de datos con las predicciones de los modelos de primer nivel\n",
    "* ASe usará una técnica de ensamblaje simple, usando las predicciones de los modelos de primer nivel como entrada para el modelo de segundo nivel, de esta manera el modelo de segundo nivel básicamente usará las predicciones de los modelos de primer nivel como características y aprenderá dónde dar más peso.\n",
    "* Para usar esta técnica también es necesario usar los modelos de primer nivel y hacer predicciones en el conjunto de prueba, para poder usarlos en el modelo de segundo nivel.\n",
    "* También se podría pasar el conjunto completo de validación con características adicionales (la predicción de los modelos de primer nivel) al modelo de segundo nivel y dejar que trabaje un poco más para encontrar la solución."
   ]
  },
  {
   "cell_type": "code",
   "execution_count": 62,
   "metadata": {
    "_uuid": "47525c6c9da7c560b06b037e02b932ef9c224333"
   },
   "outputs": [
    {
     "data": {
      "text/html": [
       "<div>\n",
       "<style scoped>\n",
       "    .dataframe tbody tr th:only-of-type {\n",
       "        vertical-align: middle;\n",
       "    }\n",
       "\n",
       "    .dataframe tbody tr th {\n",
       "        vertical-align: top;\n",
       "    }\n",
       "\n",
       "    .dataframe thead th {\n",
       "        text-align: right;\n",
       "    }\n",
       "</style>\n",
       "<table border=\"1\" class=\"dataframe\">\n",
       "  <thead>\n",
       "    <tr style=\"text-align: right;\">\n",
       "      <th></th>\n",
       "      <th>random_forest</th>\n",
       "      <th>linear_regression</th>\n",
       "      <th>knn</th>\n",
       "      <th>label</th>\n",
       "    </tr>\n",
       "  </thead>\n",
       "  <tbody>\n",
       "    <tr>\n",
       "      <td>0</td>\n",
       "      <td>0.51</td>\n",
       "      <td>0.60</td>\n",
       "      <td>0.22</td>\n",
       "      <td>0</td>\n",
       "    </tr>\n",
       "    <tr>\n",
       "      <td>1</td>\n",
       "      <td>0.45</td>\n",
       "      <td>0.04</td>\n",
       "      <td>0.22</td>\n",
       "      <td>0</td>\n",
       "    </tr>\n",
       "    <tr>\n",
       "      <td>2</td>\n",
       "      <td>0.20</td>\n",
       "      <td>0.04</td>\n",
       "      <td>0.00</td>\n",
       "      <td>0</td>\n",
       "    </tr>\n",
       "    <tr>\n",
       "      <td>3</td>\n",
       "      <td>0.20</td>\n",
       "      <td>0.04</td>\n",
       "      <td>0.00</td>\n",
       "      <td>0</td>\n",
       "    </tr>\n",
       "    <tr>\n",
       "      <td>4</td>\n",
       "      <td>0.20</td>\n",
       "      <td>0.04</td>\n",
       "      <td>0.00</td>\n",
       "      <td>0</td>\n",
       "    </tr>\n",
       "    <tr>\n",
       "      <td>5</td>\n",
       "      <td>0.20</td>\n",
       "      <td>0.04</td>\n",
       "      <td>0.00</td>\n",
       "      <td>0</td>\n",
       "    </tr>\n",
       "    <tr>\n",
       "      <td>6</td>\n",
       "      <td>0.20</td>\n",
       "      <td>0.04</td>\n",
       "      <td>0.00</td>\n",
       "      <td>0</td>\n",
       "    </tr>\n",
       "    <tr>\n",
       "      <td>7</td>\n",
       "      <td>0.20</td>\n",
       "      <td>0.04</td>\n",
       "      <td>0.00</td>\n",
       "      <td>0</td>\n",
       "    </tr>\n",
       "    <tr>\n",
       "      <td>8</td>\n",
       "      <td>0.20</td>\n",
       "      <td>0.04</td>\n",
       "      <td>0.00</td>\n",
       "      <td>0</td>\n",
       "    </tr>\n",
       "    <tr>\n",
       "      <td>9</td>\n",
       "      <td>0.05</td>\n",
       "      <td>0.04</td>\n",
       "      <td>0.00</td>\n",
       "      <td>0</td>\n",
       "    </tr>\n",
       "    <tr>\n",
       "      <td>10</td>\n",
       "      <td>0.06</td>\n",
       "      <td>0.04</td>\n",
       "      <td>0.00</td>\n",
       "      <td>1</td>\n",
       "    </tr>\n",
       "    <tr>\n",
       "      <td>11</td>\n",
       "      <td>0.20</td>\n",
       "      <td>0.04</td>\n",
       "      <td>0.11</td>\n",
       "      <td>0</td>\n",
       "    </tr>\n",
       "    <tr>\n",
       "      <td>12</td>\n",
       "      <td>0.34</td>\n",
       "      <td>0.04</td>\n",
       "      <td>0.00</td>\n",
       "      <td>0</td>\n",
       "    </tr>\n",
       "    <tr>\n",
       "      <td>13</td>\n",
       "      <td>0.20</td>\n",
       "      <td>0.04</td>\n",
       "      <td>0.00</td>\n",
       "      <td>0</td>\n",
       "    </tr>\n",
       "    <tr>\n",
       "      <td>14</td>\n",
       "      <td>1.28</td>\n",
       "      <td>1.02</td>\n",
       "      <td>1.11</td>\n",
       "      <td>1</td>\n",
       "    </tr>\n",
       "    <tr>\n",
       "      <td>15</td>\n",
       "      <td>1.07</td>\n",
       "      <td>0.60</td>\n",
       "      <td>1.00</td>\n",
       "      <td>0</td>\n",
       "    </tr>\n",
       "    <tr>\n",
       "      <td>16</td>\n",
       "      <td>1.01</td>\n",
       "      <td>0.67</td>\n",
       "      <td>1.00</td>\n",
       "      <td>2</td>\n",
       "    </tr>\n",
       "    <tr>\n",
       "      <td>17</td>\n",
       "      <td>2.48</td>\n",
       "      <td>2.36</td>\n",
       "      <td>2.11</td>\n",
       "      <td>3</td>\n",
       "    </tr>\n",
       "    <tr>\n",
       "      <td>18</td>\n",
       "      <td>1.33</td>\n",
       "      <td>1.10</td>\n",
       "      <td>0.56</td>\n",
       "      <td>0</td>\n",
       "    </tr>\n",
       "    <tr>\n",
       "      <td>19</td>\n",
       "      <td>0.34</td>\n",
       "      <td>0.04</td>\n",
       "      <td>0.00</td>\n",
       "      <td>0</td>\n",
       "    </tr>\n",
       "  </tbody>\n",
       "</table>\n",
       "</div>"
      ],
      "text/plain": [
       "    random_forest  linear_regression  knn  label\n",
       "0            0.51               0.60 0.22      0\n",
       "1            0.45               0.04 0.22      0\n",
       "2            0.20               0.04 0.00      0\n",
       "3            0.20               0.04 0.00      0\n",
       "4            0.20               0.04 0.00      0\n",
       "5            0.20               0.04 0.00      0\n",
       "6            0.20               0.04 0.00      0\n",
       "7            0.20               0.04 0.00      0\n",
       "8            0.20               0.04 0.00      0\n",
       "9            0.05               0.04 0.00      0\n",
       "10           0.06               0.04 0.00      1\n",
       "11           0.20               0.04 0.11      0\n",
       "12           0.34               0.04 0.00      0\n",
       "13           0.20               0.04 0.00      0\n",
       "14           1.28               1.02 1.11      1\n",
       "15           1.07               0.60 1.00      0\n",
       "16           1.01               0.67 1.00      2\n",
       "17           2.48               2.36 2.11      3\n",
       "18           1.33               1.10 0.56      0\n",
       "19           0.34               0.04 0.00      0"
      ]
     },
     "execution_count": 62,
     "metadata": {},
     "output_type": "execute_result"
    }
   ],
   "source": [
    "# Conjunto de datos que será el conjunto de Entrenamiento.\n",
    "first_level = pd.DataFrame(rf_val_pred, columns=['random_forest'])\n",
    "first_level['linear_regression'] = lr_val_pred\n",
    "first_level['knn'] = knn_val_pred\n",
    "first_level['label'] = Y_validation.values\n",
    "first_level.head(20)"
   ]
  },
  {
   "cell_type": "code",
   "execution_count": 63,
   "metadata": {
    "_uuid": "b1457c21773856c8a7c73a452beb659f35464512"
   },
   "outputs": [
    {
     "data": {
      "text/html": [
       "<div>\n",
       "<style scoped>\n",
       "    .dataframe tbody tr th:only-of-type {\n",
       "        vertical-align: middle;\n",
       "    }\n",
       "\n",
       "    .dataframe tbody tr th {\n",
       "        vertical-align: top;\n",
       "    }\n",
       "\n",
       "    .dataframe thead th {\n",
       "        text-align: right;\n",
       "    }\n",
       "</style>\n",
       "<table border=\"1\" class=\"dataframe\">\n",
       "  <thead>\n",
       "    <tr style=\"text-align: right;\">\n",
       "      <th></th>\n",
       "      <th>random_forest</th>\n",
       "      <th>linear_regression</th>\n",
       "      <th>knn</th>\n",
       "    </tr>\n",
       "  </thead>\n",
       "  <tbody>\n",
       "    <tr>\n",
       "      <td>0</td>\n",
       "      <td>0.97</td>\n",
       "      <td>0.85</td>\n",
       "      <td>0.89</td>\n",
       "    </tr>\n",
       "    <tr>\n",
       "      <td>1</td>\n",
       "      <td>0.06</td>\n",
       "      <td>0.06</td>\n",
       "      <td>0.00</td>\n",
       "    </tr>\n",
       "    <tr>\n",
       "      <td>2</td>\n",
       "      <td>0.84</td>\n",
       "      <td>1.79</td>\n",
       "      <td>1.11</td>\n",
       "    </tr>\n",
       "    <tr>\n",
       "      <td>3</td>\n",
       "      <td>0.00</td>\n",
       "      <td>0.06</td>\n",
       "      <td>0.00</td>\n",
       "    </tr>\n",
       "    <tr>\n",
       "      <td>4</td>\n",
       "      <td>0.06</td>\n",
       "      <td>0.06</td>\n",
       "      <td>0.00</td>\n",
       "    </tr>\n",
       "  </tbody>\n",
       "</table>\n",
       "</div>"
      ],
      "text/plain": [
       "   random_forest  linear_regression  knn\n",
       "0           0.97               0.85 0.89\n",
       "1           0.06               0.06 0.00\n",
       "2           0.84               1.79 1.11\n",
       "3           0.00               0.06 0.00\n",
       "4           0.06               0.06 0.00"
      ]
     },
     "execution_count": 63,
     "metadata": {},
     "output_type": "execute_result"
    }
   ],
   "source": [
    "# Conjunto de datos que será el conjunto de Prueba.\n",
    "first_level_test = pd.DataFrame(rf_test_pred, columns=['random_forest'])\n",
    "first_level_test['linear_regression'] = lr_test_pred\n",
    "first_level_test['knn'] = knn_test_pred\n",
    "first_level_test.head()"
   ]
  },
  {
   "cell_type": "markdown",
   "metadata": {
    "_uuid": "80a18fc9e973d3afdbd629b5735c7686e6252831"
   },
   "source": [
    "### Ensamblando\n",
    "\n",
    "* Para combinar las predicciones del modelo de primer nivel, se usará una regresión lineal simple.\n",
    "* Como solo se está alimentando al modelo con predicciones, no es necesario un modelo complejo.\n",
    "\n",
    "#### Arquitectura de Ensamblado:\n",
    "* 1er Nivel:\n",
    "    * Random forest\n",
    "    * Linear Regression\n",
    "    * KNN\n",
    "* 2ndo Nivel;\n",
    "    * Linear Regression\n",
    "\n",
    "#### Imagen para entender mejor el proceso:\n",
    " \n",
    " <img src=\"img/Grafica_Modelos.jpg\" width=\"400\">"
   ]
  },
  {
   "cell_type": "markdown",
   "metadata": {
    "_uuid": "8dbe7b6815d2ca1ce5f4f9861d7cfb1d2b7f7bf4"
   },
   "source": [
    "### El 2ndo nivel corresponde al modelo de linear regression\n",
    "* Este es el modelo que combinará los otros para hacer una mejor predicción general.\n",
    "* Si las entradas a este modo fueran más complejas, se podría dividir los datos en el conjunto de Entrenamiento y de Validación nuevamente, de esta manera se puede verificar si el modelo está sobreajustado."
   ]
  },
  {
   "cell_type": "code",
   "execution_count": 64,
   "metadata": {
    "_uuid": "e643b5f4b5c5ea9a1ee4ede6f26eabc710248feb"
   },
   "outputs": [],
   "source": [
    "meta_model = LinearRegression(n_jobs=-1)"
   ]
  },
  {
   "cell_type": "markdown",
   "metadata": {
    "_uuid": "aa8aa67fc031eeadbbd6df1854d81badda701116"
   },
   "source": [
    "#### Entrenado en el conjunto de validación utilizando las predicciones de los modelos de primer nivel"
   ]
  },
  {
   "cell_type": "code",
   "execution_count": 65,
   "metadata": {
    "_uuid": "fa34fadee5290ef57b9998a345ca99a390030435"
   },
   "outputs": [
    {
     "data": {
      "text/plain": [
       "LinearRegression(copy_X=True, fit_intercept=True, n_jobs=-1, normalize=False)"
      ]
     },
     "execution_count": 65,
     "metadata": {},
     "output_type": "execute_result"
    }
   ],
   "source": [
    "# Drop label from dataset.\n",
    "first_level.drop('label', axis=1, inplace=True)\n",
    "meta_model.fit(first_level, Y_validation)"
   ]
  },
  {
   "cell_type": "markdown",
   "metadata": {
    "_uuid": "ab80de72ecaaa6db2db0ddd161a0715177e50c65"
   },
   "source": [
    "#### Efectuando predicciones en el conjunto de pruebas utilizando las predicciones de modelos de primer nivel"
   ]
  },
  {
   "cell_type": "code",
   "execution_count": 66,
   "metadata": {
    "_kg_hide-input": true,
    "_uuid": "4e92b8cf8df4db809425ceb69c7cd01d457950c1"
   },
   "outputs": [],
   "source": [
    "ensemble_pred = meta_model.predict(first_level)\n",
    "final_predictions = meta_model.predict(first_level_test)"
   ]
  },
  {
   "cell_type": "markdown",
   "metadata": {
    "_uuid": "fb5946b79a15317bb296f76a8b2df1037dd117f8"
   },
   "source": [
    "#### Conjunto de métricas del modelo en el conjunto de validación"
   ]
  },
  {
   "cell_type": "code",
   "execution_count": 67,
   "metadata": {
    "_kg_hide-input": true,
    "_uuid": "e57727d067f5c5dc7f83589b8e4e0056f29d7815"
   },
   "outputs": [
    {
     "name": "stdout",
     "output_type": "stream",
     "text": [
      "Train rmse: 0.7661838686285163\n"
     ]
    }
   ],
   "source": [
    "print('Train rmse:', np.sqrt(mean_squared_error(ensemble_pred, Y_validation)))"
   ]
  },
  {
   "cell_type": "markdown",
   "metadata": {
    "_uuid": "d52b98625226102269934bf94f3602b0f036e9b8"
   },
   "source": [
    "#### Desempeño del modelo ajustado con la gráfica de \"Prediction x Label\"."
   ]
  },
  {
   "cell_type": "code",
   "execution_count": 68,
   "metadata": {
    "_kg_hide-input": true,
    "_uuid": "9d50eb5dc41518816096edf8789c14c571c24de1"
   },
   "outputs": [
    {
     "data": {
      "image/png": "[encoded data removed]",
      "text/plain": [
       "<Figure size 504x504 with 3 Axes>"
      ]
     },
     "metadata": {
      "needs_background": "light"
     },
     "output_type": "display_data"
    }
   ],
   "source": [
    "model_performance_sc_plot(ensemble_pred, Y_validation, 'Validation')"
   ]
  },
  {
   "cell_type": "markdown",
   "metadata": {
    "_uuid": "ab0063edbbdc9ff08d5f0bf207b9921380adeb98"
   },
   "source": [
    "#### Predicciones efectuadas."
   ]
  },
  {
   "cell_type": "code",
   "execution_count": 69,
   "metadata": {
    "_uuid": "d56956add596808733fe0474f93b3092ef1260f5"
   },
   "outputs": [
    {
     "data": {
      "text/html": [
       "<div>\n",
       "<style scoped>\n",
       "    .dataframe tbody tr th:only-of-type {\n",
       "        vertical-align: middle;\n",
       "    }\n",
       "\n",
       "    .dataframe tbody tr th {\n",
       "        vertical-align: top;\n",
       "    }\n",
       "\n",
       "    .dataframe thead th {\n",
       "        text-align: right;\n",
       "    }\n",
       "</style>\n",
       "<table border=\"1\" class=\"dataframe\">\n",
       "  <thead>\n",
       "    <tr style=\"text-align: right;\">\n",
       "      <th></th>\n",
       "      <th>ID</th>\n",
       "      <th>item_cnt_month</th>\n",
       "    </tr>\n",
       "  </thead>\n",
       "  <tbody>\n",
       "    <tr>\n",
       "      <td>0</td>\n",
       "      <td>0</td>\n",
       "      <td>0.95</td>\n",
       "    </tr>\n",
       "    <tr>\n",
       "      <td>1</td>\n",
       "      <td>1</td>\n",
       "      <td>0.09</td>\n",
       "    </tr>\n",
       "    <tr>\n",
       "      <td>2</td>\n",
       "      <td>2</td>\n",
       "      <td>1.34</td>\n",
       "    </tr>\n",
       "    <tr>\n",
       "      <td>3</td>\n",
       "      <td>3</td>\n",
       "      <td>0.06</td>\n",
       "    </tr>\n",
       "    <tr>\n",
       "      <td>4</td>\n",
       "      <td>4</td>\n",
       "      <td>0.09</td>\n",
       "    </tr>\n",
       "    <tr>\n",
       "      <td>5</td>\n",
       "      <td>5</td>\n",
       "      <td>1.01</td>\n",
       "    </tr>\n",
       "    <tr>\n",
       "      <td>6</td>\n",
       "      <td>6</td>\n",
       "      <td>1.37</td>\n",
       "    </tr>\n",
       "    <tr>\n",
       "      <td>7</td>\n",
       "      <td>7</td>\n",
       "      <td>0.21</td>\n",
       "    </tr>\n",
       "    <tr>\n",
       "      <td>8</td>\n",
       "      <td>8</td>\n",
       "      <td>1.98</td>\n",
       "    </tr>\n",
       "    <tr>\n",
       "      <td>9</td>\n",
       "      <td>9</td>\n",
       "      <td>0.06</td>\n",
       "    </tr>\n",
       "  </tbody>\n",
       "</table>\n",
       "</div>"
      ],
      "text/plain": [
       "   ID  item_cnt_month\n",
       "0   0            0.95\n",
       "1   1            0.09\n",
       "2   2            1.34\n",
       "3   3            0.06\n",
       "4   4            0.09\n",
       "5   5            1.01\n",
       "6   6            1.37\n",
       "7   7            0.21\n",
       "8   8            1.98\n",
       "9   9            0.06"
      ]
     },
     "execution_count": 69,
     "metadata": {},
     "output_type": "execute_result"
    }
   ],
   "source": [
    "prediction_df = pd.DataFrame(test['ID'], columns=['ID'])\n",
    "prediction_df['item_cnt_month'] = final_predictions.clip(0., 20.)\n",
    "prediction_df.to_csv('submission.csv', index=False)\n",
    "prediction_df.head(10)"
   ]
  }
 ],
 "metadata": {
  "kernelspec": {
   "display_name": "Python 3",
   "language": "python",
   "name": "python3"
  },
  "language_info": {
   "codemirror_mode": {
    "name": "ipython",
    "version": 3
   },
   "file_extension": ".py",
   "mimetype": "text/x-python",
   "name": "python",
   "nbconvert_exporter": "python",
   "pygments_lexer": "ipython3",
   "version": "3.7.4"
  }
 },
 "nbformat": 4,
 "nbformat_minor": 1
}
