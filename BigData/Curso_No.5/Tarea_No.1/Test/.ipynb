{
 "cells": [
  {
   "cell_type": "code",
   "execution_count": 1,
   "metadata": {},
   "outputs": [
    {
     "data": {
      "text/plain": [
       "3.141592653589793"
      ]
     },
     "execution_count": 1,
     "metadata": {},
     "output_type": "execute_result"
    }
   ],
   "source": [
    "##\n",
    "## Libraries or Modules\n",
    "##\n",
    "\n",
    "import math\n",
    "\n",
    "math.sqrt(25)\n",
    "\n",
    "math.pi\n"
   ]
  },
  {
   "cell_type": "code",
   "execution_count": 2,
   "metadata": {},
   "outputs": [
    {
     "data": {
      "text/plain": [
       "5.0"
      ]
     },
     "execution_count": 2,
     "metadata": {},
     "output_type": "execute_result"
    }
   ],
   "source": [
    "import math as mt\n",
    "\n",
    "mt.sqrt(25)"
   ]
  },
  {
   "cell_type": "code",
   "execution_count": 7,
   "metadata": {},
   "outputs": [
    {
     "name": "stdout",
     "output_type": "stream",
     "text": [
      "[[0.35826603 0.21790792 0.10467283 0.34947316 0.6439449 ]\n",
      " [0.90498055 0.31850026 0.14923483 0.48564731 0.71798543]\n",
      " [0.91638529 0.38246956 0.36156119 0.42597001 0.6998429 ]\n",
      " [0.77012289 0.16408239 0.58357261 0.0698699  0.50983465]\n",
      " [0.45669316 0.10428277 0.88886615 0.4375645  0.30503785]]\n"
     ]
    },
    {
     "data": {
      "text/plain": [
       "0.4530707619704136"
      ]
     },
     "execution_count": 7,
     "metadata": {},
     "output_type": "execute_result"
    }
   ],
   "source": [
    "import numpy\n",
    "import math\n",
    "from scipy import stats\n",
    "from numpy import random\n",
    "\n",
    "import numpy as np\n",
    "\n",
    "# uniform random numbers in [0,1]\n",
    "dataOne = random.rand(5,5)\n",
    "\n",
    "print (dataOne)\n",
    "\n",
    "np.mean(dataOne)"
   ]
  },
  {
   "cell_type": "code",
   "execution_count": 13,
   "metadata": {},
   "outputs": [
    {
     "name": "stdout",
     "output_type": "stream",
     "text": [
      "I Love data Science\n"
     ]
    }
   ],
   "source": [
    "##\n",
    "## Functions\n",
    "##\n",
    "\n",
    "# Require \"def\" \n",
    "def functionName():\n",
    "    print('I Love data Science')\n",
    "    \n",
    "functionName()"
   ]
  },
  {
   "cell_type": "code",
   "execution_count": 14,
   "metadata": {},
   "outputs": [
    {
     "name": "stdout",
     "output_type": "stream",
     "text": [
      "I Love data Science\n"
     ]
    }
   ],
   "source": [
    "##\n",
    "## Variables\n",
    "##\n",
    "\n",
    "variableName = 25\n",
    "\n",
    "variableName1 = 'I Love data Science'\n",
    "\n",
    "print(variableName1)"
   ]
  },
  {
   "cell_type": "code",
   "execution_count": 20,
   "metadata": {},
   "outputs": [
    {
     "name": "stdout",
     "output_type": "stream",
     "text": [
      "<class 'int'>\n",
      "<class 'float'>\n",
      "50.0\n",
      "25Hello\n"
     ]
    }
   ],
   "source": [
    "##\n",
    "## Datatypes\n",
    "##\n",
    "\n",
    "variableName = 25\n",
    "print (type(variableName))\n",
    "\n",
    "variableName = 25.0\n",
    "print (type(variableName))\n",
    "\n",
    "varOne = 25\n",
    "varTwo = 25.0\n",
    "varThree = varOne + varTwo\n",
    "print(varThree)\n",
    "\n",
    "## Require parse Int to String\n",
    "varOne = 25\n",
    "varTwo = 'Hello'\n",
    "varThree = str(varOne) + varTwo\n",
    "print(varThree)"
   ]
  },
  {
   "cell_type": "code",
   "execution_count": 22,
   "metadata": {},
   "outputs": [
    {
     "name": "stdout",
     "output_type": "stream",
     "text": [
      "[2, 3]\n"
     ]
    },
    {
     "data": {
      "text/plain": [
       "4098"
      ]
     },
     "execution_count": 22,
     "metadata": {},
     "output_type": "execute_result"
    }
   ],
   "source": [
    "##\n",
    "## Lists and Dictionaries\n",
    "##\n",
    "\n",
    "## Lists\n",
    "listName = [ ]\n",
    "\n",
    "listOne = [1,2,3,4]\n",
    "\n",
    "print(listOne[1:3])\n",
    "\n",
    "## Dictionaries\n",
    "tel = {'jack': 4098, 'sape': 4139}\n",
    "\n",
    "tel['jack']"
   ]
  },
  {
   "cell_type": "code",
   "execution_count": 35,
   "metadata": {},
   "outputs": [
    {
     "name": "stdout",
     "output_type": "stream",
     "text": [
      "True\n",
      "10.0\n",
      "5\n"
     ]
    }
   ],
   "source": [
    "##\n",
    "## My Turn\n",
    "##\n",
    "\n",
    "import math as mt\n",
    "\n",
    "dataFamilyAge = { 'father':35, 'mother':33, 'son':10, 'daughter':5, 'grand_mother':60 }\n",
    "\n",
    "# Return True if x is neither an infinity nor a NaN, and False otherwise\n",
    "print (mt.isfinite(dataFamilyAge['mother']))\n",
    "\n",
    "# Return the absolute value of x\n",
    "print (mt.fabs(dataFamilyAge['son']))\n",
    "\n",
    "# Return the ceiling of x\n",
    "print (mt.ceil(dataFamilyAge['daughter']))\n"
   ]
  }
 ],
 "metadata": {
  "kernelspec": {
   "display_name": "Python 3",
   "language": "python",
   "name": "python3"
  },
  "language_info": {
   "codemirror_mode": {
    "name": "ipython",
    "version": 3
   },
   "file_extension": ".py",
   "mimetype": "text/x-python",
   "name": "python",
   "nbconvert_exporter": "python",
   "pygments_lexer": "ipython3",
   "version": "3.7.4"
  }
 },
 "nbformat": 4,
 "nbformat_minor": 2
}
